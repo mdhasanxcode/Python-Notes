{
  "nbformat": 4,
  "nbformat_minor": 0,
  "metadata": {
    "colab": {
      "provenance": [],
      "collapsed_sections": [
        "rWL9KWHr1oEM"
      ],
      "toc_visible": true
    },
    "kernelspec": {
      "name": "python3",
      "display_name": "Python 3"
    },
    "language_info": {
      "name": "python"
    }
  },
  "cells": [
    {
      "cell_type": "markdown",
      "source": [
        "# **Collection Data Types - List and Tuples**"
      ],
      "metadata": {
        "id": "Jtc5vMITsgHC"
      }
    },
    {
      "cell_type": "markdown",
      "source": [
        "## **Introduction**"
      ],
      "metadata": {
        "id": "HrsmmkUesvQ_"
      }
    },
    {
      "cell_type": "code",
      "execution_count": null,
      "metadata": {
        "id": "YLLOV0nbW6xL"
      },
      "outputs": [],
      "source": [
        "# String, Tuple(90)      --> Ordered, Unchangeable\n",
        "# List[], Dictionary{}   --> Ordered, Changeable, (duplicate, no dubplicates)\n",
        "# Set                    --> Unordered, Unchangeable, No duplicates"
      ]
    },
    {
      "cell_type": "markdown",
      "source": [
        "## **Assigning and clearing a list**"
      ],
      "metadata": {
        "id": "NkNQLI7X1gaw"
      }
    },
    {
      "cell_type": "code",
      "source": [
        "# Assign\n",
        "#############################################################\n",
        "var_list = [1, 2.50, \"Apple\", \"cherry\", True]\n",
        "print(\"Entered: \", var_list, \"||  Type:\", type(var_list))"
      ],
      "metadata": {
        "id": "B_qwL5V0xyYM"
      },
      "execution_count": null,
      "outputs": []
    },
    {
      "cell_type": "code",
      "source": [
        "# Print\n",
        "#############################################################\n",
        "var_tuple = (1, 2.50, \"Apple\", \"cherry\", True)\n",
        "print(\"Entered: \",var_tuple, \"||  Type:\", type(var_tuple))"
      ],
      "metadata": {
        "id": "RIcMCWe19Q9c"
      },
      "execution_count": null,
      "outputs": []
    },
    {
      "cell_type": "markdown",
      "source": [
        "## **Accessing elements from Collection Data Types**"
      ],
      "metadata": {
        "id": "97vPFC_aBOTs"
      }
    },
    {
      "cell_type": "code",
      "source": [
        "#@title Range Indexing\n",
        "#########################################################\n",
        "#                                                       #\n",
        "# List[staring_index : Ending Index]                    #\n",
        "#                                                       #\n",
        "# Elements Accessed as followed                         #\n",
        "# ---> starts with the Starting_index_number            #\n",
        "# ---> ends BEFORE the Ending_index_number              #\n",
        "#########################################################"
      ],
      "metadata": {
        "id": "W_YUhVzvud3o"
      },
      "execution_count": null,
      "outputs": []
    },
    {
      "cell_type": "code",
      "source": [
        "#@title Accessing elements through range indexing\n",
        "# The list\n",
        "var_list = [\"Apple\", \"Banana\", \"Drinks\", \"Meat\", \"Rice\", \"Desert\"]\n",
        "# printing the list\n",
        "print(\"var_list =\", var_list, end = \"\\n\\n\")\n"
      ],
      "metadata": {
        "id": "qZexiWcGBOqO"
      },
      "execution_count": null,
      "outputs": []
    },
    {
      "cell_type": "code",
      "source": [
        "# Range indexing                                        #\n",
        "#########################################################\n",
        "# ---> starts with the Starting_index_number            #\n",
        "# ---> ends BEFORE the Ending_index_number              #\n",
        "#########################################################"
      ],
      "metadata": {
        "id": "MvdNwD7byEte"
      },
      "execution_count": null,
      "outputs": []
    },
    {
      "cell_type": "code",
      "source": [
        "# Normal indexing                                       #\n",
        "#########################################################\n",
        "# Access from First 3                                   #\n",
        "print(f\"Access from First 3 elements: {var_list[0:4]}\") #\n",
        "#########################################################"
      ],
      "metadata": {
        "id": "30rVH_-nyHvX"
      },
      "execution_count": null,
      "outputs": []
    },
    {
      "cell_type": "code",
      "source": [
        "#########################################################\n",
        "# Access from From index 3rd to 5th                     #\n",
        "print(f\"3rd to 5th elements: {var_list[3:6]}\")          #\n",
        "#########################################################"
      ],
      "metadata": {
        "id": "5tsnJdw8yMG6"
      },
      "execution_count": null,
      "outputs": []
    },
    {
      "cell_type": "code",
      "source": [
        "# REVERSE INDEXING\n",
        "#####################################################################################################################\n",
        "# Access from Last 3 elements by reverse indexing                                                                   #\n",
        "print(f\"Last 3 elements by reverse indexing: {var_list[-3:]}\")                                                      #\n",
        "                                                                                                                    #\n",
        "# Access from From index 3rd to 5th elements by reverse indexing                                                    #\n",
        "StartingIndex = 3                                                                                                   #\n",
        "EndingIndex = 5                                                                                                     #\n",
        "print(f\"3rd to 5th elements by reverse indexing: {var_list[-(StartingIndex+1):-((len(var_list))-EndingIndex)]}\")    #\n",
        "#####################################################################################################################"
      ],
      "metadata": {
        "id": "FZ-u33aPyOHz"
      },
      "execution_count": null,
      "outputs": []
    },
    {
      "cell_type": "markdown",
      "source": [
        "## **Inserting elements in List ||   using .insert(indx, elm) and .append(elm)   ||**"
      ],
      "metadata": {
        "id": "a86lUy-T1rUe"
      }
    },
    {
      "cell_type": "code",
      "source": [
        "# List.insert(index, element)                                                                   #\n",
        "#################################################################################################\n",
        "var_list = [\"Apple\", \"Banana\", \"Drinks\", \"Meat\", \"Rice\", \"Desert\"]                              #\n",
        "print(\"var_list =\", var_list, end = \"\\n\\n\")                                                     #\n",
        "var_list.insert(2, \"CokaCola\")                                                                  #\n",
        "print(\"Inserting using .insert(index, element):\\nvar_list =\", var_list, end = \"\\n\\n\\n\\n\")       #\n",
        "#################################################################################################"
      ],
      "metadata": {
        "id": "f9-6Zl8t9rl8"
      },
      "execution_count": null,
      "outputs": []
    },
    {
      "cell_type": "code",
      "source": [
        "# List.append(element)       ------------->>>  adds element at the end          #\n",
        "#################################################################################\n",
        "print(\"var_list =\", var_list)                                                   #\n",
        "var_list.append(\"Faluda\")                                                       #\n",
        "print(\"Inserting using .append(element):\\nvar_list =\", var_list)                #\n",
        "#################################################################################"
      ],
      "metadata": {
        "id": "y83774asy0Eu"
      },
      "execution_count": null,
      "outputs": []
    },
    {
      "cell_type": "markdown",
      "source": [
        "## **Replacing/Inserting elements in LIST**"
      ],
      "metadata": {
        "id": "rWL9KWHr1oEM"
      }
    },
    {
      "cell_type": "code",
      "source": [
        "# var_list[index range] = [\"String_element\", number_elements]\n",
        "#################################################################################################\n",
        "# Warning!                                                                                      #\n",
        "# Watch the last code passage //line 33//                                                       #\n",
        "################# Use list[index range] = [\"element\"] -- if you use index ranging ###############\n",
        "# Replacing as a list element (not as a just string)                                            #\n",
        "# If you put just a string, not as a list element --> then it takes every char as list element  #\n",
        "#################################################################################################"
      ],
      "metadata": {
        "id": "HWT6Vkjn9rtB"
      },
      "execution_count": null,
      "outputs": []
    },
    {
      "cell_type": "code",
      "source": [
        "#################################################################################################\n",
        "# The list                                                                                      #\n",
        "var_list = [\"Apple\", \"Banana\", \"Drinks\", \"Meat\", \"Rice\", \"Desert\"]                              #\n",
        "# printing the list                                                                             #\n",
        "print(\"var_list =\", var_list, end = \"\\n\\n\")                                                     #\n",
        "# Replacing a single element (at a 3rd index)                                                   #\n",
        "var_list[2:3] = [\"Fruits\"]                                                                      #\n",
        "print(\"After Replacing 3rd index [2:3]\\nvar_list =\", var_list, end=\"\\n\\n\\n\\n\")                  #\n",
        "#################################################################################################"
      ],
      "metadata": {
        "id": "R6LCLDsFzGfe"
      },
      "execution_count": null,
      "outputs": []
    },
    {
      "cell_type": "code",
      "source": [
        "#############################################################################################################\n",
        "# The list                                                                                                  #\n",
        "var_list = [\"Apple\", \"Banana\", \"Drinks\", \"Meat\", \"Rice\", \"Desert\"]                                          #\n",
        "# printing the list                                                                                         #\n",
        "print(\"var_list =\", var_list)                                                                               #\n",
        "#printing a range                                                                                           #\n",
        "print(\"var_list[:3] =\", var_list[:3], end = \"\\n\\n\")                                                         #\n",
        "#replacing (0-2)range elements                                                                              #\n",
        "var_list[:3] = [\"Fruits\"]                                                                                   #\n",
        "print(\"After Replacing \\\"First 3 indexs/ A range of index\\\" [0:3]\\nvar_list =\", var_list, end=\"\\n\\n\\n\\n\")   #\n",
        "#############################################################################################################"
      ],
      "metadata": {
        "id": "H0CN_DSezGXm"
      },
      "execution_count": null,
      "outputs": []
    },
    {
      "cell_type": "code",
      "source": [
        "#####################################################################################################\n",
        "var_list = [\"Apple\", \"Banana\", \"Drinks\", \"Meat\", \"Rice\", \"Desert\"]                                  #\n",
        "var_list[:3] = 'Fruits'                                                                             #\n",
        "print(\"After Replacing as String // Means, Not giving [] before elements\\nvar_list =\", var_list)    #\n",
        "#####################################################################################################"
      ],
      "metadata": {
        "id": "2-hdVEYLzGQv"
      },
      "execution_count": null,
      "outputs": []
    },
    {
      "cell_type": "code",
      "source": [
        "#################################################################################################\n",
        "# The list                                                                                      #\n",
        "var_list = [\"Apple\", \"Banana\", \"Drinks\", \"Meat\", \"Rice\", \"Desert\"]                              #\n",
        "# printing the list                                                                             #\n",
        "print(\"var_list =\", var_list)                                                                   #\n",
        "# Inser Pineapple at 3rd index                                                                  #\n",
        "var_list[2:2] = [\"Pineapple\"]                                                                   #\n",
        "print(\"After Insrting using replace method at 3rd index [2:3]\\nvar_list =\", var_list)           #\n",
        "#################################################################################################"
      ],
      "metadata": {
        "id": "Rn2JFQgfzGEu"
      },
      "execution_count": null,
      "outputs": []
    },
    {
      "cell_type": "markdown",
      "source": [
        "## **Concatting List with containers**"
      ],
      "metadata": {
        "id": "mJcXf68C3gOC"
      }
    },
    {
      "cell_type": "code",
      "source": [
        "# LIST.extend(List/Tuple/Set/dictionary)\n",
        "# It only works with List\n",
        "###############################################################################################################\n",
        "\n",
        "fruits = [\"Apple\", \"Banana\", \"Mango\", \"Grape\"]\n",
        "desert = [\"Faluda\", \"Brownie\", \"Pie\"]\n",
        "Number = (1, 2, 3, 4)\n",
        "\n",
        "print(\"Fruits = {}\\nDesert = {}\\nNumber = {}\\n\\n\\n\".format(fruits, desert, Number))\n",
        "\n",
        "# Concatting way 1 // Only work with same data type\n",
        "####################################################################################\n",
        "ListWithList = fruits + desert\n",
        "print(f'Concate Fruits and desert: {ListWithList}')\n",
        "print(\"\\n\\n\\n\")\n",
        "\n",
        "\n",
        "\n",
        "# Concatting way 2 // List.extend(containers)\n",
        "####################################################################################\n",
        "fruits.extend(desert)\n",
        "print(\"fruits.extend(desert)\")\n",
        "print(\"Fruits = \",fruits)\n",
        "\n",
        "\n",
        "fruits.extend(Number)\n",
        "print(\"fruits.extend(Number)\")\n",
        "print(\"Fruits = \",fruits)\n"
      ],
      "metadata": {
        "id": "qza5wv5Y9rlB"
      },
      "execution_count": null,
      "outputs": []
    },
    {
      "cell_type": "markdown",
      "source": [
        "## **Deleting element from list**"
      ],
      "metadata": {
        "id": "mmqfvp7ckaw1"
      }
    },
    {
      "cell_type": "code",
      "source": [
        "# way 1:   |index range = null string (not as list element)\n",
        "#          |--> list[\"index range\"] = ''\n",
        "# way 2:   list.pop(index)\n",
        "#----------------------------------------------------------------#\n",
        "# way 3:   list.remove(\"Element\")\n",
        "# way 4:   del list[index]\n",
        "\n",
        "\n",
        "\n",
        "\n",
        "#############################################################################################\n",
        "# WAY 1 (index ranging - null string)                                                       #\n",
        "######################################                                                      #\n",
        "#Initialize List                                                                            #\n",
        "fruits = [\"Apple\", \"Banana\", \"Mango\", \"Grape\", \"Banana\", \"Grape\"]                           #\n",
        "print(\"Fruits =\", fruits, end=\"\\n\\n\")                                                       #\n",
        "                                                                                            #\n",
        "# Delete 3rd Index :::                                                                      #\n",
        "print(\"Delete 3rd Index\")                                                                   #\n",
        "fruits[2:3] = ''                                                                            #\n",
        "print(\"fruits[2:3] = ''\\nFruits = \", fruits, end=\"\\n\\n\\n\\n\\n\")                              #\n",
        "#############################################################################################\n",
        "                                                                                            #\n",
        "#Inirialize List                                                                            #\n",
        "fruits = [\"Apple\", \"Banana\", \"Mango\", \"Grape\", \"Banana\", \"Grape\"]                           #\n",
        "print(\"Fruits =\", fruits, end=\"\\n\\n\")                                                       #\n",
        "                                                                                            #\n",
        "# Delete 3rd and 4th Index :::                                                              #\n",
        "print(\"Delete 3rd and 4th Index\")                                                           #\n",
        "fruits[2:4] = ''                                                                            #\n",
        "print(\"fruits[2:4] = ''\\nFruits =\", fruits, end=\"\\n\\n\\n\\n\\n\")                               #\n",
        "#############################################################################################\n",
        "\n",
        "\n",
        "\n",
        "#############################################################################################\n",
        "# WAY 2                                                                                     #\n",
        "# List.pop()                                                                                #\n",
        "# list will be without the popped one                                                       #\n",
        "####################################################################                        #\n",
        "fruits = [\"Apple\", \"Banana\", \"Mango\", \"Grape\", \"Banana\", \"Grape\"]  #                        #\n",
        "print(\"Fruits =\", fruits, end=\"\\n\\n\")                              #                        #\n",
        "                                                                   #                        #\n",
        "fruits.pop(2)                                                      #                        #\n",
        "print(fruits, end=\"\\n\\n\\n\\n\")                                      #                        #\n",
        "####################################################################                        #\n",
        "                                                                                            #\n",
        "                                                                                            #\n",
        "                                                                                            #\n",
        "###########################################################                                 #\n",
        "# Interesting fact about pop                                                                #\n",
        "# List = list.pop()                                                                         #\n",
        "# List is now with the only popped one                                                      #\n",
        "###########################################################                                 #\n",
        "# You can just keep the single element in the list        #                                 #\n",
        "# and delete all others                                   #                                 #\n",
        "num = ['A','B', 'C', 'd', 'e', 'F']                       #                                 #\n",
        "num = num.pop(2)                                          #                                 #\n",
        "print(num)                                                #                                 #\n",
        "###########################################################                                 #\n",
        "#############################################################################################"
      ],
      "metadata": {
        "id": "LbjxltNm9rbp"
      },
      "execution_count": null,
      "outputs": []
    },
    {
      "cell_type": "markdown",
      "source": [
        "## **Sorting list**"
      ],
      "metadata": {
        "id": "z-SexMjQl68X"
      }
    },
    {
      "cell_type": "code",
      "source": [
        "#Initialize List                                                                            #\n",
        "Strings = [\"Apple\", \"banana\", \"Mango\", \"Grape\", \"Banana\", \"grape\"]                          #\n",
        "Numbers = [10, 11, 6, 8, 4]                                                                 #\n",
        "print(f\"Strings = {Strings}\\nNumbers = {Numbers}\\n\\n\")                                      #\n",
        "                                                                                            #\n",
        "\n",
        "\n",
        "print(\"After Sorting\\n==================================================================\")  #\n",
        "Strings.sort()                                                                              #\n",
        "Numbers.sort()                                                                              #\n",
        "print(f\"Strings = {Strings}\\nNumbers = {Numbers}\\n\\n\")                                      #\n",
        "\n",
        "\n",
        "\n",
        "print(\"Reverse Sorting\\n==================================================================\")#\n",
        "Strings.sort(reverse=True)                                                                  #\n",
        "Numbers.sort(reverse=True)                                                                  #\n",
        "print(f\"Strings = {Strings}\\nNumbers = {Numbers}\\n\\n\")                                      #"
      ],
      "metadata": {
        "id": "Xg-eCHuIl6g_"
      },
      "execution_count": null,
      "outputs": []
    },
    {
      "cell_type": "markdown",
      "source": [
        "##**Copying A List**"
      ],
      "metadata": {
        "id": "4sfg1C59olVf"
      }
    },
    {
      "cell_type": "code",
      "source": [
        "#Initialize List                                                                            #\n",
        "Fruits = [\"Apple\", \"banana\", \"Mango\", \"Grape\", \"Banana\", \"grape\"]                           #\n",
        "\n",
        "# Way 1: newList = list(old_variable)\n",
        "##############################################################\n",
        "Avail = list(Fruits)\n",
        "print(Avail, \"\\nlength of Avail:\",len(Avail),\"\\n\\n\")\n",
        "\n",
        "\n",
        "# Way 2: .copy()\n",
        "##############################################################\n",
        "Bvail = Fruits.copy()\n",
        "print(Bvail, \"\\nlength of Avail:\",len(Bvail))"
      ],
      "metadata": {
        "id": "0svipGAUookw"
      },
      "execution_count": null,
      "outputs": []
    }
  ]
}