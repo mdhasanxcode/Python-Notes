{
  "nbformat": 4,
  "nbformat_minor": 0,
  "metadata": {
    "colab": {
      "provenance": [],
      "collapsed_sections": [
        "oA9uLHuvwdra",
        "HViyNyjm3tw8",
        "yJYDDPb56J0c",
        "kyiazCcr_k-D",
        "sstD4nADCLu_",
        "HKxaFGuyCgKJ",
        "sMaH9RMYFqsY",
        "nSuao_LKFyBb",
        "fef2OPGkIFWG",
        "9NZVi4zPLNv7"
      ]
    },
    "kernelspec": {
      "name": "python3",
      "display_name": "Python 3"
    },
    "language_info": {
      "name": "python"
    },
    "gpuClass": "standard"
  },
  "cells": [
    {
      "cell_type": "markdown",
      "source": [
        "# **Collection Data Types - Set**"
      ],
      "metadata": {
        "id": "f-Sol_nYwPe0"
      }
    },
    {
      "cell_type": "markdown",
      "source": [
        "## **Introduction**"
      ],
      "metadata": {
        "id": "oA9uLHuvwdra"
      }
    },
    {
      "cell_type": "code",
      "execution_count": 44,
      "metadata": {
        "id": "ZaKax0dRv9KO"
      },
      "outputs": [],
      "source": [
        "# String, Tuple(90)      --> Ordered, Unchangeable\n",
        "# List[], Dictionary{}   --> Ordered, Changeable, (duplicate, no dubplicates)\n",
        "# Set                    --> Unordered, Unchangeable, No duplicates"
      ]
    },
    {
      "cell_type": "code",
      "source": [
        "# Set and Dictionary -- do not allow duplicates"
      ],
      "metadata": {
        "id": "o-miXya5wi91"
      },
      "execution_count": 45,
      "outputs": []
    },
    {
      "cell_type": "code",
      "source": [
        "# When any (list/tuple) --- is changed into ---> {set}\n",
        "# It omits the duplicate values and just keeps a single value for each elements"
      ],
      "metadata": {
        "id": "GPRNJPK_5az8"
      },
      "execution_count": 46,
      "outputs": []
    },
    {
      "cell_type": "code",
      "source": [
        "# You can not access Set elements by indexing"
      ],
      "metadata": {
        "id": "bhcAX27i5bTs"
      },
      "execution_count": 47,
      "outputs": []
    },
    {
      "cell_type": "markdown",
      "source": [
        "## **Convert list and tuple into set**"
      ],
      "metadata": {
        "id": "HViyNyjm3tw8"
      }
    },
    {
      "cell_type": "code",
      "source": [
        "#@title **Initialize a List and a tuple**\n",
        "\n",
        "\n",
        "#Initialize a List and a tuple                                                                  #\n",
        "#################################################################################################\n",
        "Strings = [\"Apple\", \"banana\",\"banana\", \"Mango\", \"Grape\", \"Banana\",\"Banana\",\"Banana\", \"grape\"]   #\n",
        "Numbers = (1,2,3,4,3,5,5,5,9,10,9,7,7,6,6,6,8)                                                  #\n",
        "print(f\"Strings = {Strings}\\nNumbers = {Numbers}\\n\\n\")                                          #"
      ],
      "metadata": {
        "colab": {
          "base_uri": "https://localhost:8080/"
        },
        "id": "uoaV00bAxuKD",
        "outputId": "24d0d840-8838-4883-e338-4b40a0425f15"
      },
      "execution_count": 48,
      "outputs": [
        {
          "output_type": "stream",
          "name": "stdout",
          "text": [
            "Strings = ['Apple', 'banana', 'banana', 'Mango', 'Grape', 'Banana', 'Banana', 'Banana', 'grape']\n",
            "Numbers = (1, 2, 3, 4, 3, 5, 5, 5, 9, 10, 9, 7, 7, 6, 6, 6, 8)\n",
            "\n",
            "\n"
          ]
        }
      ]
    },
    {
      "cell_type": "code",
      "source": [
        "#@title **Convert ------ list_Variable and tuple_variable -----> into  set**\n",
        "\n",
        "\n",
        "\n",
        "# Convert ------ list_Variable and tuple_variable ----- into -----> set\n",
        "# ------------------------------------------------------------------------------#\n",
        "# Convert a list variable into a set variable                                   #\n",
        "Aset = set(Strings)                                                             #\n",
        "Bset = set(Numbers)                                                             #\n",
        "print(f\"Aset = {Aset}\\nBset = {Bset}\")                                          #\n",
        "# ------------------------------------------------------------------------------#"
      ],
      "metadata": {
        "colab": {
          "base_uri": "https://localhost:8080/"
        },
        "id": "MSeoPdBu0gBF",
        "outputId": "5c3ec4c2-c759-4e43-cce5-4b4b0c781c70"
      },
      "execution_count": 49,
      "outputs": [
        {
          "output_type": "stream",
          "name": "stdout",
          "text": [
            "Aset = {'Grape', 'Mango', 'grape', 'Apple', 'Banana', 'banana'}\n",
            "Bset = {1, 2, 3, 4, 5, 6, 7, 8, 9, 10}\n"
          ]
        }
      ]
    },
    {
      "cell_type": "code",
      "source": [
        "#@title **Convert  -- RAW List and Tuple ---> into set**\n",
        "\n",
        "\n",
        "#-------------------------------------------------------#\n",
        "# Convert a                                             #\n",
        "#           -- raw list  [list elements]                #\n",
        "#           -- raw tuple (tuple elements)               #\n",
        "# ---------------------------------------->into a set   #\n",
        "#-------------------------------------------------------#\n",
        "Cset = set([\"Apple\", \"banana\",\"banana\", \"Mango\", \"Grape\", \"Banana\",\"Banana\",\"Banana\", \"grape\"])\n",
        "Dset = set((1,2,3,4,3,5,5,5,9,10,9,7,7,6,6,6,8))\n",
        "print(f\"Cset = {Cset}\\nDset = {Dset}\")"
      ],
      "metadata": {
        "colab": {
          "base_uri": "https://localhost:8080/"
        },
        "id": "ipZ0gf4C3fql",
        "outputId": "7333bf4c-7dff-4548-9e72-42d80cbdf866"
      },
      "execution_count": 50,
      "outputs": [
        {
          "output_type": "stream",
          "name": "stdout",
          "text": [
            "Cset = {'Grape', 'Mango', 'grape', 'Apple', 'Banana', 'banana'}\n",
            "Dset = {1, 2, 3, 4, 5, 6, 7, 8, 9, 10}\n"
          ]
        }
      ]
    },
    {
      "cell_type": "markdown",
      "source": [
        "## **Add elements into a set**"
      ],
      "metadata": {
        "id": "yJYDDPb56J0c"
      }
    },
    {
      "cell_type": "code",
      "source": [
        "#@title **Add \"ONLY ONE ELEMENT\" into the set**\n",
        "\n",
        "\n",
        "#---------------------------------------------------------------#\n",
        "# Initialize and Print a set                                    #\n",
        "Fruits = {1,2,3,4,4,\"Coco\", \"Coco\", \"Papaya\"}                   #\n",
        "print(f\"Fruits = {Fruits}\")                                     #\n",
        "#---------------------------------------------------------------#\n",
        "# Warning: By set.add() ---> you can only add only one element  #\n",
        "#-------------------------------------------------------------- #\n",
        "#                                                               #\n",
        "# Add \"ONLY ONE ELEMENT\" into the set                           #\n",
        "Fruits.add(\"Almonds\")                                           #\n",
        "#                                                               #\n",
        "#---------------------------------------------------------------#\n",
        "#                                                               #\n",
        "# Let's check the fruits now                                    #    \n",
        "print(f\"Fruits = {Fruits}\")                                     #\n",
        "#---------------------------------------------------------------#"
      ],
      "metadata": {
        "colab": {
          "base_uri": "https://localhost:8080/"
        },
        "cellView": "form",
        "id": "LvfUXJ-g1043",
        "outputId": "d3c692c8-e3d4-4d3d-ba57-2078bebd91fc"
      },
      "execution_count": 59,
      "outputs": [
        {
          "output_type": "stream",
          "name": "stdout",
          "text": [
            "Fruits = {1, 2, 3, 4, 'Papaya', 'Coco'}\n",
            "Fruits = {1, 2, 3, 4, 'Almonds', 'Papaya', 'Coco'}\n"
          ]
        }
      ]
    },
    {
      "cell_type": "markdown",
      "source": [
        "### **Add \"MULTIPLE ELEMENTS\" into the set**"
      ],
      "metadata": {
        "id": "kyiazCcr_k-D"
      }
    },
    {
      "cell_type": "code",
      "source": [
        "# You can only add \n",
        "# <<multiple elements>>| \n",
        "#                      |as| \n",
        "#                         |-- <<set/set(list/tuple)>>\n",
        "#-------------------------------------------------------------------#\n",
        "# There are three ways                                              #\n",
        "#                                                                   #\n",
        "# Way 1: setVar.update()                                            #\n",
        "# Way 2: setVar.union()                                             #\n",
        "# Way 3: Pipe operator << setVar |= set(list/tuple/set) >>          #   \n",
        "#-------------------------------------------------------------------#"
      ],
      "metadata": {
        "id": "PvyM9MNg9AVI"
      },
      "execution_count": 60,
      "outputs": []
    },
    {
      "cell_type": "markdown",
      "source": [
        "**Way 1: set.update(set/tuple/list)**"
      ],
      "metadata": {
        "id": "LBuBI6C8AFiL"
      }
    },
    {
      "cell_type": "code",
      "source": [
        "# Way 1: set1.update(set2)                                      #\n",
        "#---------------------------------------------------------------#\n",
        "#\n",
        "#\n",
        "#---------------------------------------------------------------#\n",
        "# Initialize and Print a set                                    #\n",
        "Fruits = {1,2,3,4,4,\"Coco\", \"Coco\", \"Papaya\"}                   #\n",
        "print(f\"Fruits = {Fruits}\")                                     #\n",
        "#---------------------------------------------------------------#\n",
        "#\n",
        "#\n",
        "#---------------------------------------------------------------#\n",
        "#                                                               #\n",
        "# The adding elements as set2                                   #\n",
        "Fruits2 = {\"Apple\", \"Banana\"}                                   #\n",
        "Fruits.update(Fruits2)                                          #\n",
        "#                                                               #\n",
        "print(f\"Fruits Now = {Fruits}\")                                 #\n",
        "#---------------------------------------------------------------#"
      ],
      "metadata": {
        "colab": {
          "base_uri": "https://localhost:8080/"
        },
        "id": "z313dwU8ADqa",
        "outputId": "58440d23-369a-46f9-e293-5b7e99ecd65d"
      },
      "execution_count": 61,
      "outputs": [
        {
          "output_type": "stream",
          "name": "stdout",
          "text": [
            "Fruits = {1, 2, 3, 4, 'Papaya', 'Coco'}\n",
            "Fruits Now = {1, 2, 3, 4, 'Apple', 'Papaya', 'Coco', 'Banana'}\n"
          ]
        }
      ]
    },
    {
      "cell_type": "markdown",
      "source": [
        "**Way 2: .union(set2)**"
      ],
      "metadata": {
        "id": "sstD4nADCLu_"
      }
    },
    {
      "cell_type": "code",
      "source": [
        "# Way 2: set1.union(set2)                                       #\n",
        "#---------------------------------------------------------------#\n",
        "#\n",
        "#\n",
        "#---------------------------------------------------------------#\n",
        "# Initialize and Print a set                                    #\n",
        "Fruits = {1,2,3,4,4,\"Coco\", \"Coco\", \"Papaya\"}                   #\n",
        "print(f\"Fruits = {Fruits}\")                                     #\n",
        "#---------------------------------------------------------------#\n",
        "#\n",
        "#\n",
        "#---------------------------------------------------------------#\n",
        "#                                                               #\n",
        "# The adding elements as set2                                   #\n",
        "Fruits2 = {\"Apple\", \"Banana\"}                                   #\n",
        "Fruits.union(Fruits2)                                           #\n",
        "#                                                               #\n",
        "print(f\"Fruits Now = {Fruits}\")                                 #\n",
        "#---------------------------------------------------------------#"
      ],
      "metadata": {
        "colab": {
          "base_uri": "https://localhost:8080/"
        },
        "id": "PB2CQdIFCRK5",
        "outputId": "efaa44b0-3477-472c-d237-e111576cebdc"
      },
      "execution_count": 62,
      "outputs": [
        {
          "output_type": "stream",
          "name": "stdout",
          "text": [
            "Fruits = {1, 2, 3, 4, 'Papaya', 'Coco'}\n",
            "Fruits Now = {1, 2, 3, 4, 'Papaya', 'Coco'}\n"
          ]
        }
      ]
    },
    {
      "cell_type": "markdown",
      "source": [
        "**Way 3: Pipe operator**"
      ],
      "metadata": {
        "id": "HKxaFGuyCgKJ"
      }
    },
    {
      "cell_type": "code",
      "source": [
        "# Way 1: set1.update(set2)                                      #\n",
        "\n",
        "\n",
        "#---------------------------------------------------------------#\n",
        "# Initialize and Print a set                                    #\n",
        "Fruits = {1,2,3,4,4,\"Coco\", \"Coco\", \"Papaya\"}                   #\n",
        "print(f\"Fruits = {Fruits}\")                                     #\n",
        "#---------------------------------------------------------------#\n",
        "\n",
        "\n",
        "#---------------------------------------------------------------#\n",
        "#                                                               #\n",
        "# The adding elements as set2                                   #\n",
        "Fruits |= {\"Apple\", \"Banana\"}                                   #\n",
        "# OR, Fruits |= set(  (Tuple)/[list]  )                         #\n",
        "#                                                               #\n",
        "#                                                               #\n",
        "print(f\"Fruits Now = {Fruits}\")                                 #\n",
        "#---------------------------------------------------------------#"
      ],
      "metadata": {
        "colab": {
          "base_uri": "https://localhost:8080/"
        },
        "id": "3d06MUP4CedA",
        "outputId": "d2a24729-7df4-4def-d358-49c686d60436"
      },
      "execution_count": 63,
      "outputs": [
        {
          "output_type": "stream",
          "name": "stdout",
          "text": [
            "Fruits = {1, 2, 3, 4, 'Papaya', 'Coco'}\n",
            "Fruits Now = {1, 2, 3, 4, 'Apple', 'Papaya', 'Coco', 'Banana'}\n"
          ]
        }
      ]
    },
    {
      "cell_type": "markdown",
      "source": [
        "## **Remove elements from a set**"
      ],
      "metadata": {
        "id": "sMaH9RMYFqsY"
      }
    },
    {
      "cell_type": "markdown",
      "source": [
        "### **Removing one elemetns from a set**"
      ],
      "metadata": {
        "id": "nSuao_LKFyBb"
      }
    },
    {
      "cell_type": "code",
      "source": [
        "#-----------------------------------------------------------------------------------------------------------#\n",
        "# Ways:                                                                                                     #\n",
        "# Set.discard(\"element\")            // if the element  is not present in the set -- doesnt show any error   #\n",
        "# Set.remove(\"element\")             // if the element  is not present in the set -- SHOWS ERROR             #\n",
        "# Set.pop()                         // removed element is UNKNOWN                                           #\n",
        "#-----------------------------------------------------------------------------------------------------------#\n",
        "#\n",
        "#\n",
        "#-----------------------------------------------------------------------------------------------------------#\n",
        "# SO My primary use will be set.discard(\"element\")                                                          #\n",
        "#-----------------------------------------------------------------------------------------------------------#\n",
        "#\n",
        "#\n",
        "#---------------------------------------------------------------#\n",
        "# Initialize and Print a set                                    #\n",
        "Fruits = {'Apple', 'Papaya', 'Coco', 'Banana'}                  #\n",
        "print(f\"Fruits = {Fruits}\")                                     #\n",
        "#---------------------------------------------------------------#\n",
        "#\n",
        "#\n",
        "#---------------------------------------------------------------#\n",
        "# Remove Coco and Coconut                                       #\n",
        "Fruits.discard(\"Coco\")                                          #\n",
        "Fruits.discard(\"Coconut\")                                       #\n",
        "#---------------------------------------------------------------#\n",
        "#\n",
        "#\n",
        "#---------------------------------------------------------------#\n",
        "print(f\"Fruits Now = {Fruits}\")                                 #\n",
        "#---------------------------------------------------------------#"
      ],
      "metadata": {
        "colab": {
          "base_uri": "https://localhost:8080/"
        },
        "id": "n6aDhktqFw16",
        "outputId": "170f80d0-010e-4dad-edc5-13833d0f6056"
      },
      "execution_count": 64,
      "outputs": [
        {
          "output_type": "stream",
          "name": "stdout",
          "text": [
            "Fruits = {'Apple', 'Banana', 'Papaya', 'Coco'}\n",
            "Fruits Now = {'Apple', 'Banana', 'Papaya'}\n"
          ]
        }
      ]
    },
    {
      "cell_type": "markdown",
      "source": [
        "### **Removing Multiple elements from a set**"
      ],
      "metadata": {
        "id": "fef2OPGkIFWG"
      }
    },
    {
      "cell_type": "code",
      "source": [
        "# Do this by symmetric_difference\n",
        "#---------------------------------------------------------------------------------------#\n",
        "#\n",
        "# Set1, set2(things to remove)\n",
        "#\n",
        "#---------------------------------------------------------------------------------------#\n",
        "# set1.symmetric_difference_update(set2)\n",
        "# By this Set1 will be without elements of set2\n",
        "#---------------------------------------------------------------------------------------#\n",
        "#\n",
        "#\n",
        "#---------------------------------------------------------------------------------------#\n",
        "# Warning: Be careful with set2                                                         #\n",
        "#           Because if SET2 gets additional elements which are not present in SET1      #\n",
        "#           Then those ADDTIONAL_elements_of_Set2 will be added with the SET            #\n",
        "#---------------------------------------------------------------------------------------#"
      ],
      "metadata": {
        "id": "K8OQ-0rOLv_E"
      },
      "execution_count": 65,
      "outputs": []
    },
    {
      "cell_type": "markdown",
      "source": [
        "### **Clear a set**"
      ],
      "metadata": {
        "id": "9NZVi4zPLNv7"
      }
    },
    {
      "cell_type": "code",
      "source": [
        "#---------------------------------------------------------------#\n",
        "# Initialize and Print a set                                    #\n",
        "Fruits = {'Apple', 'Papaya', 'Coco', 'Banana'}                  #\n",
        "print(f\"Fruits = {Fruits}\")                                     #\n",
        "#---------------------------------------------------------------#\n",
        "\n",
        "Fruits.clear()\n",
        "print(f\"Fruits Now: {Fruits}\")"
      ],
      "metadata": {
        "colab": {
          "base_uri": "https://localhost:8080/"
        },
        "id": "erPNv5ldLY8Z",
        "outputId": "6652216b-0f0e-4287-aab2-e656b2bfd22c"
      },
      "execution_count": 66,
      "outputs": [
        {
          "output_type": "stream",
          "name": "stdout",
          "text": [
            "Fruits = {'Apple', 'Banana', 'Papaya', 'Coco'}\n",
            "Fruits Now: set()\n"
          ]
        }
      ]
    },
    {
      "cell_type": "markdown",
      "source": [
        "## **Interaction between Multiple Set**"
      ],
      "metadata": {
        "id": "YdN_Z0bhISoF"
      }
    },
    {
      "cell_type": "markdown",
      "source": [
        "### **Keeping only the Intersected Elements //set1.intersectioned(set2,set3,etc...)**"
      ],
      "metadata": {
        "id": "RtG9qjftIbcJ"
      }
    },
    {
      "cell_type": "code",
      "source": [
        "x = {\"a\", \"b\", \"c\"}\n",
        "y = {\"c\", \"d\", \"e\"}\n",
        "z = {\"f\", \"g\", \"c\"}\n",
        "\n",
        "result = x.intersection(y, z)\n",
        "print(result)\n",
        "\n",
        "\n",
        "#-------------------------------------------#\n",
        "# x.intersection_update(y,z)                #\n",
        "#                                           #\n",
        "# <<It directly updates the first set>>     #\n",
        "#                                           #\n",
        "# print(x)                                  #\n",
        "#-------------------------------------------#"
      ],
      "metadata": {
        "colab": {
          "base_uri": "https://localhost:8080/"
        },
        "id": "CiEMBzb9Indf",
        "outputId": "9b344b99-70a9-4266-bd43-ad92f8bc9e58"
      },
      "execution_count": 67,
      "outputs": [
        {
          "output_type": "stream",
          "name": "stdout",
          "text": [
            "{'c'}\n"
          ]
        }
      ]
    },
    {
      "cell_type": "markdown",
      "source": [
        "### **Keeping All the Elements except intersected ones //set1.symmetric_difference(set2)**"
      ],
      "metadata": {
        "id": "CfUrRiFAJc-6"
      }
    },
    {
      "cell_type": "code",
      "source": [
        "x = {\"a\", \"b\", \"c\"}\n",
        "y = {\"c\", \"d\", \"e\"}\n",
        "z = {\"f\", \"g\", \"c\"}\n",
        "\n",
        "result = x.symmetric_difference(y)\n",
        "print(result)\n",
        "\n",
        "\n",
        "#-------------------------------------------#\n",
        "# x.intersection_update(y,z)                #\n",
        "#                                           #\n",
        "# <<It directly updates the first set>>     #\n",
        "#                                           #\n",
        "# print(x)                                  #\n",
        "#-------------------------------------------#"
      ],
      "metadata": {
        "colab": {
          "base_uri": "https://localhost:8080/"
        },
        "id": "RFW9DHPPJcZa",
        "outputId": "13e9bd56-594e-43f5-e897-b86ec5a7b70c"
      },
      "execution_count": 68,
      "outputs": [
        {
          "output_type": "stream",
          "name": "stdout",
          "text": [
            "{'b', 'a', 'd', 'e'}\n"
          ]
        }
      ]
    },
    {
      "cell_type": "markdown",
      "source": [
        "### **Checking Sets**"
      ],
      "metadata": {
        "id": "2WGVe0n8OIay"
      }
    },
    {
      "cell_type": "code",
      "source": [
        "# <<  3 Methods to check 2 sets >>\n",
        "# These return TRUE OR FALSE\n",
        "#-------------------------------------------------------------------------------------------||++++++++++++++++++++++++++++++++++++++++++++++++++++++++++++++\n",
        "#                                                                                           || This part is not correct - Only for my remembering tricks +++\n",
        "#                                                                                           ||++++++++++++++++++++++++++++++++++++++++++++++++++++++++++++++\n",
        "# x.is-sub-set(y)            // Find X || checks y for x      //if x is present in y        || subset --> x smaller                                      +++\n",
        "# x.is-upper-set(y)          // FIND Y || checks x for y      //if y is present in x        || upper  --> y smaller                                      +++\n",
        "# x.is-dis-joint(y)          // FIND X || checks y for x      //if x is NOT present in y    ||                                                           +++\n",
        "#-------------------------------------------------------------------------------------------||++++++++++++++++++++++++++++++++++++++++++++++++++++++++++++++\n",
        "#\n",
        "# FOR SIMPLE USE:       USE either sub-set/upper-set\n",
        "#\n",
        "# I WILL USE << SUBSET >>"
      ],
      "metadata": {
        "id": "P_c0DaVyOz9A"
      },
      "execution_count": 70,
      "outputs": []
    }
  ]
}