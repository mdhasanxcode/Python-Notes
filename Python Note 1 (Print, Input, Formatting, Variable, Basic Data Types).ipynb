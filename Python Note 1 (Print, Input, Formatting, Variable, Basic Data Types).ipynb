{
  "nbformat": 4,
  "nbformat_minor": 0,
  "metadata": {
    "colab": {
      "provenance": [],
      "authorship_tag": "ABX9TyMfJovDXmmLwDTk2qNCA1Nc",
      "include_colab_link": true
    },
    "kernelspec": {
      "name": "python3",
      "display_name": "Python 3"
    },
    "language_info": {
      "name": "python"
    }
  },
  "cells": [
    {
      "cell_type": "markdown",
      "metadata": {
        "id": "view-in-github",
        "colab_type": "text"
      },
      "source": [
        "<a href=\"https://colab.research.google.com/github/radium-code/Python-Notes/blob/main/1_Python_Note_(Print%2C_Input%2C_Formatting%2C_Variable%2C_Basic_Data_Types).ipynb\" target=\"_parent\"><img src=\"https://colab.research.google.com/assets/colab-badge.svg\" alt=\"Open In Colab\"/></a>"
      ]
    },
    {
      "cell_type": "code",
      "source": [
        "# print(a, b, c)\n",
        "# Sequencial Formatting\n",
        "\n",
        "# Variable Declaration & Deletion\n",
        "# Operators\n",
        "\n",
        "# input()\n",
        "# int, float, complex,"
      ],
      "metadata": {
        "id": "f-NOUMFZv7bu"
      },
      "execution_count": null,
      "outputs": []
    },
    {
      "cell_type": "code",
      "execution_count": null,
      "metadata": {
        "id": "b2P7AP3UpwSP"
      },
      "outputs": [],
      "source": [
        "# print(\"String Message\", vairable, concationation inside, sep=\" \", end=\"\\n\") function\n",
        "#################################################################################\n",
        "                                                                                #\n",
        "# You can print multiple value/vriable in print function                        #\n",
        "# comma seperates value (with default: ,sep=\" \"                                 #\n",
        "# addition # + # concate same type of variable                                  #\n",
        "# new print() function is followed by preivous print()'s end=\"\\n\"               #\n",
        "#                                                                               #\n",
        "g = \"darkness\"                                                                  #\n",
        "print(\"hello\", \"Mellow\" + \"AlongWith\", g)                                       ##1\n",
        "print(\"Hello\", \"darkness\", \"my old\", \"friend\", sep=\" ** \", end=\".\")             ##2\n",
        "print(\"Hello again\", end = \"\\n\\n\\n...\")                                         ##3\n",
        "#                                                                               #\n",
        "#################################################################################"
      ]
    },
    {
      "cell_type": "code",
      "source": [
        "#Sequential Formatting (Normal sequence, sequence by number)\n",
        "#print(\"{} {} and {}\".format(a, b, c))\n",
        "#################################################################################\n",
        "#                                                                               #\n",
        "#                                                                               #\n",
        "a = \"hello\"                                                                     \n",
        "b = \"darkness\"                                                                  \n",
        "c = \"friend\"                                                                    \n",
        "d = \"my\"                                                                        \n",
        "f = \"\\\"outside format variable\\\"\"                                               \n",
        "#                                                                               #\n",
        "print(\"{} {} {} old {}\".format(a, b, c, d))                ### My main use ###  ##1\n",
        "#                                                                               #\n",
        "print(\"{0} {1} {3} old {2}\".format(a, b, c, d))                                 ##2\n",
        "#                                                                               #\n",
        "#                                                                               #\n",
        "# You can also assign value in .format(normal assign)                           #   \n",
        "#                                                                               #\n",
        "# But you cannot concate newly by previous variable in .format()                #\n",
        "print(\"{e} {f} {g} {h}\".format(e=\"I\", f=\"love\", g=\"You\", h = 1+1))              ##3\n",
        "print(\"{e} {f} {g} {h}\".format(e=\"I\", f=\"love\", g=\"You\", h = f+g))              ##4\n",
        "print(\"\\n\\n\\n...\")                                                              #\n",
        "#################################################################################"
      ],
      "metadata": {
        "id": "q3gvUyZRp-Ib"
      },
      "execution_count": null,
      "outputs": []
    },
    {
      "cell_type": "code",
      "source": [
        "# Variable Declaration & Deleting\n",
        "# 4 Rules || del var1\n",
        "#################################################################################\n",
        "#                                                                               #\n",
        "# 4 rules of Variable Declaration in Python                                     #\n",
        "#01. Start with Letter or Underscore                                            #\n",
        "#02. Case Sensitive                                                             #\n",
        "#03. Alphanumeric                                                               #\n",
        "#04. Cannot start with a number                                                 #\n",
        "#                                                                               #\n",
        "a, b, c, d, e, f = 2, 5.4, \"Coding\", (1,2,3,4,5), {1,2,3,4,5}, [1,2,3,4,5]      #\n",
        "print(a,b,c,d,e,f, sep=\"\\n\")                                                    ##1\n",
        "#                                                                               #\n",
        "# 3rd Bracket List, 2nd bracket Set, 1st bracket tuple                          #\n",
        "# Same type of variable can be CONCATENATE (added)                              #\n",
        "# multiple variable1 = var2 = var3 = \"Same Value\"                               #\n",
        "#                                                                               #\n",
        "# Variable deletion: del var1, var2, var3                                       #\n",
        "#################################################################################"
      ],
      "metadata": {
        "id": "RpHFwdwkqB3s"
      },
      "execution_count": null,
      "outputs": []
    },
    {
      "cell_type": "code",
      "source": [
        "# OPERATORS\n",
        "#################################################################################\n",
        "# There are total 8 types of operators\n",
        "###########################################\n",
        "#\n",
        "#1 Arithmetic           (7) : (+,-,*,/,//,%,**)\n",
        "#2 Assignment           (13): Equal, Arithmetic 7 ta Equal, Bitwise 5ta Equal  (=, arithmatic oprator 7=, Bitwise 5=)\n",
        "#3 Comparis on/Relation (6) : Return Boolean ans: TRUE, FLASE || (==, !=, >, <, >=, <=)\n",
        "#4 Logical              (3) : and, or, not\n",
        "#\n",
        "#5 Identity             (2) : is, is not || Checks if memory location is same or not || Multiple variable's memory location is same in python until the value are different\n",
        "#6 Membership           (2) : in, not in\n",
        "#7 Bitwise              (6) : Mathmetical operations Results  (bitwise 1and, 2or, 3xor, 4not, 5R Shift, 6L shift)\n",
        "#                             & (binary numbers's and result), |(binary numbers's or result), ^ (XOR result || Couple=False)\n",
        "#                             >> (Right Shifts bit certain blocks), << (Left Shift), ~  ***Minus Sign [1's Complement {(Number's 1's complement) -1}]***\n",
        "#8 Ternary\n",
        "#################################################################################"
      ],
      "metadata": {
        "id": "TiYEIsAKqMNZ"
      },
      "execution_count": null,
      "outputs": []
    },
    {
      "cell_type": "code",
      "source": [
        "# Data Types\n",
        "#################################################################################################################################\n",
        "#                                                                                                                               #\n",
        "# There are total 8                                                                                                             #\n",
        "#                                                                                                                               #\n",
        "#       str                                                                                                                     #\n",
        "#       Numeric(3)            :  int(1), float(2.27), complex(1j)                                                               #\n",
        "#       Sequence(3)           :  list, range, tuple                                                                             #\n",
        "#       Mapping               :  dict                                                                                           #\n",
        "#       Set(2)                :  set, frozenset                                                                                 #\n",
        "#       Binary(3)             :  bythes, bytearray, memoryview                                                                  #\n",
        "#       NoneType, bool                                                                                                          #                                                                                                                             #\n",
        "#                                                                                                                               #\n",
        "#################################################################################################################################\n",
        "\n"
      ],
      "metadata": {
        "id": "MSb9JYYCGVZD"
      },
      "execution_count": null,
      "outputs": []
    },
    {
      "cell_type": "code",
      "source": [
        "# Data Types\n",
        "#########################\n",
        "#########################\n",
        "## ***3 categories*** ###\n",
        "#########################\n",
        "#################################################################################\n",
        "# 1. Basic Types (5)      : (int, float, complex, string, boolean)              #\n",
        "# 2. Collection Types (4) : (list, tuple, sets and dictionary)                  #\n",
        "# 3. User Defined         : (Class)                                             #\n",
        "#################################################################################\n",
        "\n",
        "# String, Tuple(90) --> Ordered, Unchangeable\n",
        "# List, Dictionary  --> Ordered, Changeable, (duplicate, no dubplicates)\n",
        "# Set               --> Unordered, Unchangeable, No duplicates"
      ],
      "metadata": {
        "id": "Ftr_dKoIAVyQ"
      },
      "execution_count": null,
      "outputs": []
    },
    {
      "cell_type": "code",
      "source": [],
      "metadata": {
        "id": "AVC9JFLY3t2a"
      },
      "execution_count": null,
      "outputs": []
    },
    {
      "cell_type": "code",
      "source": [
        "# Basic data types\n",
        "# int(n),  float(n.n), complex(nj), \n",
        "#################################################################################\n",
        "var_int = 20                                                                    #\n",
        "print(\"Entered: \", var_int, \"  ||  Type:\", type(var_int))                       #\n",
        "                                                                                #\n",
        "                                                                                #\n",
        "var_float = 20.5                                                                #\n",
        "print(\"Entered: \", var_float, \"||  Type:\", type(var_float))                     #\n",
        "                                                                                #\n",
        "                                                                                #\n",
        "var_complex = 2j                                                                #\n",
        "print(\"Entered: \",var_complex, \"  ||  Type:\", type(var_complex))                #\n",
        "#                                                                               #\n",
        "#################################################################################"
      ],
      "metadata": {
        "id": "upLQdWXxI_98"
      },
      "execution_count": null,
      "outputs": []
    },
    {
      "cell_type": "code",
      "source": [
        "# Input() Function\n",
        "# var1 = input()\n",
        "# var1, var2 = input(\"Any Message \").split(\"by what || maybe just a space\")\n",
        "#################################################################################\n",
        "#                                                                               #\n",
        "# You can print anyrhing without print() function inside a --> input(\"Message\") #\n",
        "# Everything you input in a input() function is --> a String\n",
        "# Type casting input() function:\n",
        "# var = int/float(---input(\"Input will be integer: \")---)\n",
        "\n",
        "A = input(\"Input a number: \")\n",
        "print(\"You entered \", A)\n",
        "print(\"Type of A: \", type(A))\n",
        "A = int(A)\n",
        "print(\"After type Casting: A = \", A, \" Type: \", type(A))\n",
        "\n",
        "\n",
        "# Taking multiple input in one line\n",
        "# Using input().split(\" \")\n",
        "a, b, c = input(\"\\n\\n\\nEnter 3 numbers: \").split(\"\\n\")\n",
        "print(\"Type of a,b,c: \", type(a))\n",
        "\n",
        "# Printing value of a b c after type cast\n",
        "a, b, c = int(a), int(b), int(c)\n",
        "print(\"a = {}, b = {}\".format(a,b), \"\\nType of them now: \", type(a), \"\\nc = {}\".format(c))\n",
        "#################################################################################"
      ],
      "metadata": {
        "id": "I-v0uiBYqGIH",
        "colab": {
          "base_uri": "https://localhost:8080/",
          "height": 393
        },
        "outputId": "40fac63b-32a2-45a7-f53f-2a5e47177559"
      },
      "execution_count": null,
      "outputs": [
        {
          "name": "stdout",
          "output_type": "stream",
          "text": [
            "Input a number: 10\n",
            "You entered  10\n",
            "Type of A:  <class 'str'>\n",
            "After type Casting: A =  10  Type:  <class 'int'>\n",
            "\n",
            "\n",
            "\n",
            "Enter 3 numbers: 10\n"
          ]
        },
        {
          "output_type": "error",
          "ename": "ValueError",
          "evalue": "ignored",
          "traceback": [
            "\u001b[0;31m---------------------------------------------------------------------------\u001b[0m",
            "\u001b[0;31mValueError\u001b[0m                                Traceback (most recent call last)",
            "\u001b[0;32m<ipython-input-2-b2016d74678a>\u001b[0m in \u001b[0;36m<module>\u001b[0;34m\u001b[0m\n\u001b[1;32m     18\u001b[0m \u001b[0;31m# Taking multiple input in one line\u001b[0m\u001b[0;34m\u001b[0m\u001b[0;34m\u001b[0m\u001b[0;34m\u001b[0m\u001b[0m\n\u001b[1;32m     19\u001b[0m \u001b[0;31m# Using input().split(\" \")\u001b[0m\u001b[0;34m\u001b[0m\u001b[0;34m\u001b[0m\u001b[0;34m\u001b[0m\u001b[0m\n\u001b[0;32m---> 20\u001b[0;31m \u001b[0ma\u001b[0m\u001b[0;34m,\u001b[0m \u001b[0mb\u001b[0m\u001b[0;34m,\u001b[0m \u001b[0mc\u001b[0m \u001b[0;34m=\u001b[0m \u001b[0minput\u001b[0m\u001b[0;34m(\u001b[0m\u001b[0;34m\"\\n\\n\\nEnter 3 numbers: \"\u001b[0m\u001b[0;34m)\u001b[0m\u001b[0;34m.\u001b[0m\u001b[0msplit\u001b[0m\u001b[0;34m(\u001b[0m\u001b[0;34m\"\\n\"\u001b[0m\u001b[0;34m)\u001b[0m\u001b[0;34m\u001b[0m\u001b[0;34m\u001b[0m\u001b[0m\n\u001b[0m\u001b[1;32m     21\u001b[0m \u001b[0mprint\u001b[0m\u001b[0;34m(\u001b[0m\u001b[0;34m\"Type of a,b,c: \"\u001b[0m\u001b[0;34m,\u001b[0m \u001b[0mtype\u001b[0m\u001b[0;34m(\u001b[0m\u001b[0ma\u001b[0m\u001b[0;34m)\u001b[0m\u001b[0;34m)\u001b[0m\u001b[0;34m\u001b[0m\u001b[0;34m\u001b[0m\u001b[0m\n\u001b[1;32m     22\u001b[0m \u001b[0;34m\u001b[0m\u001b[0m\n",
            "\u001b[0;31mValueError\u001b[0m: not enough values to unpack (expected 3, got 1)"
          ]
        }
      ]
    },
    {
      "cell_type": "code",
      "source": [
        "# Boolean and None\n",
        "#################################################################################################################################\n",
        "var_bool_1 = True\n",
        "var_bool_2 = False\n",
        "print(\"Entered: \", var_bool_1, \"||  Type:\", type(var_bool_1))\n",
        "print(\"Entered:  {}||  Type: {}\".format(var_bool_2, type(var_bool_2)))\n",
        "\n",
        "\n",
        "var_none = None\n",
        "print(\"Entered: \", var_none, \"||  Type:\", type(var_str))\n"
      ],
      "metadata": {
        "id": "MTBsC84yAN9l"
      },
      "execution_count": null,
      "outputs": []
    },
    {
      "cell_type": "code",
      "source": [
        "# Condition in Python\n",
        "#################################################################################\n",
        "#                                                                               #\n",
        "i = 0\n",
        "if i < 10:\n",
        "    print(\"1st Block: \", i)\n",
        "    i += 1\n",
        "\n",
        "elif i > 10:\n",
        "\n",
        "    print(\"2nd Block: \", i)"
      ],
      "metadata": {
        "id": "AvkjnMk6qRI7",
        "colab": {
          "base_uri": "https://localhost:8080/"
        },
        "outputId": "8a135bba-4fa2-41b5-8b4f-9275b5324ceb"
      },
      "execution_count": null,
      "outputs": [
        {
          "output_type": "stream",
          "name": "stdout",
          "text": [
            "1st Block:  0\n"
          ]
        }
      ]
    }
  ]
}