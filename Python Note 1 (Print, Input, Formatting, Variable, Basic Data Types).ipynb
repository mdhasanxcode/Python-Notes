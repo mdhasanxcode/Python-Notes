{
  "cells": [
    {
      "attachments": {},
      "cell_type": "markdown",
      "metadata": {
        "colab_type": "text",
        "id": "view-in-github"
      },
      "source": [
        "<a href=\"https://colab.research.google.com/github/radium-code/Python-Notes/blob/main/1_Python_Note_(Print%2C_Input%2C_Formatting%2C_Variable%2C_Basic_Data_Types).ipynb\" target=\"_parent\"><img src=\"https://colab.research.google.com/assets/colab-badge.svg\" alt=\"Open In Colab\"/></a>"
      ]
    },
    {
      "attachments": {},
      "cell_type": "markdown",
      "metadata": {},
      "source": [
        "# **Learning Objectives**"
      ]
    },
    {
      "attachments": {},
      "cell_type": "markdown",
      "metadata": {},
      "source": [
        "In this note we will learn about:\n",
        "```\n",
        "1. Print Function\n",
        "2. Sequencial Formatting\n",
        "\n",
        "3. Variable (Declaration & Deletion)\n",
        "4. Operators\n",
        "\n",
        "5. Data Types (int, float, complex)\n",
        "6. Input Function\n",
        "```"
      ]
    },
    {
      "attachments": {},
      "cell_type": "markdown",
      "metadata": {},
      "source": [
        "## **1. Print Function**"
      ]
    },
    {
      "attachments": {},
      "cell_type": "markdown",
      "metadata": {},
      "source": [
        "\n",
        "Print Function can:\n",
        "* Print String(s)\n",
        "* Print Variable(s)\n",
        "* concate strings\n",
        "* perform valid operations inside (and print them)\n",
        "\n",
        "Things to notice:\n",
        "* Separate Value: Print function's default *```sep```* value is single space (See code line 1.3)\n",
        "* End Value     : Print function's default *```end```* value is '\\n' (See code line 1.3)\n",
        "\n",
        "Key code line:\n",
        "\n",
        "```print(\"String Message\", vairable, concationation inside, sep=\" \", end=\"\\n\")```\n",
        "\n",
        "Explanation:\n",
        "\n",
        "* You can print multiple value/vriable in print function                        \n",
        "* Comma seperates value (with default: ,sep=\" \")                                 \n",
        "* addition # + # concate same type of variable                                  \n",
        "* new print() function is followed by preivous print()'s end=\"\\n\""
      ]
    },
    {
      "cell_type": "code",
      "execution_count": 6,
      "metadata": {
        "id": "b2P7AP3UpwSP"
      },
      "outputs": [
        {
          "name": "stdout",
          "output_type": "stream",
          "text": [
            "hello MellowAlongWith darkness\n",
            "Hello ** darkness ** my old ** friend.Notice That the previous print function ended with full stop(.)and next print function started immidiately\n",
            ".\n",
            "..\n",
            "...Futhermore the next print function started after 3 new line.\n"
          ]
        }
      ],
      "source": [
        "g = \"darkness\"                                                              # 1.1\n",
        "print(\"hello\", \"Mellow\" + \"AlongWith\", g)                                   # 1.2\n",
        "print(\"Hello\", \"darkness\", \"my old\", \"friend\", sep=\" ** \", end=\".\")         # 1.3\n",
        "print(\"Notice That the previous print function ended with full stop(.)\" +\n",
        "      \"and next print function started immidiately\", end = \"\\n.\\n..\\n...\")  # 1.4\n",
        "print(\"Futhermore the next print function started after 3 new line.\")"
      ]
    },
    {
      "attachments": {},
      "cell_type": "markdown",
      "metadata": {},
      "source": [
        "## **2. Print/String Formatiing**"
      ]
    },
    {
      "attachments": {},
      "cell_type": "markdown",
      "metadata": {},
      "source": [
        "\n",
        "* There are multiple ways for formatting a print message\n",
        "* (1) using .format - print(\"{}\".format())\n",
        "* (2) using f'' - - - - print(f\"{}\")\n",
        "\n",
        "Personal Opinion:\n",
        "* Personally I like to use formatted Message/ this style: f\"Message {variable}\"\n",
        "* But in .format() - - -> The is an advantage of operations inside .format() (see code line 2.2 and 2.3)\n",
        "\n",
        "Things to notice:\n",
        "* In .format() - - -> You can not concate/operate on variable(s) that has been assigned/defined inside .format (See Code line 2.4)\n",
        "\n",
        "Key code line:\n",
        "\n",
        "```print(\"String Message\", vairable, concationation inside, sep=\" \", end=\"\\n\")```\n",
        "\n",
        "Explanation:\n",
        "\n",
        "* You can print multiple value/vriable in print function                        \n",
        "* Comma seperates value (with default: ,sep=\" \")                                 \n",
        "* addition # + # concate same type of variable                                  \n",
        "* new print() function is followed by preivous print()'s end=\"\\n\""
      ]
    },
    {
      "cell_type": "code",
      "execution_count": 13,
      "metadata": {},
      "outputs": [],
      "source": [
        "a = \"hello\"\n",
        "b = \"darkness\"                                                                  \n",
        "c = \"friend\"                                                                    \n",
        "d = \"my\"                                                                        \n",
        "f = \"\\\"outside format variable\\\" \" "
      ]
    },
    {
      "cell_type": "code",
      "execution_count": 23,
      "metadata": {
        "id": "q3gvUyZRp-Ib"
      },
      "outputs": [
        {
          "name": "stdout",
          "output_type": "stream",
          "text": [
            "hello darkness friend old my\n",
            "hello darkness my old friend\n",
            "I love You 2\n"
          ]
        }
      ],
      "source": [
        "print(\"{} {} {} old {}\".format(a, b, c, d))                                                 # 2.1\n",
        "\n",
        "print(\"{0} {1} {3} old {2}\".format(a, b, c, d))                                             # 2.2  \n",
        "\n",
        "# You can operate/concate inside .format()\n",
        "print(\"{e} {f} {g} {h}\".format(e=\"I\", f=\"love\", g=\"You\", h = 1+1))                          # 2.3\n",
        "\n",
        "# you cannot concate variables created/assigned inside .format() \n",
        "# The next line, if executed, will give an Error (NameError)\n",
        "# print(\"e = {e}, f = {f}, g = {g}, h = {h}\".format(e=\"I\", f=\"love\", g=\"You\", h = f+e))     # 2.4\n"
      ]
    },
    {
      "attachments": {},
      "cell_type": "markdown",
      "metadata": {},
      "source": [
        "### Alignment, padding and precision with `.format()`"
      ]
    },
    {
      "attachments": {},
      "cell_type": "markdown",
      "metadata": {},
      "source": [
        "Within the curly braces you can assign field lengths, left/right alignments, rounding parameters and more\n",
        "\n",
        "```Curly braces format is as follows:\n",
        "{variable : alignment seperator field length} -"
      ]
    },
    {
      "cell_type": "code",
      "execution_count": 81,
      "metadata": {},
      "outputs": [
        {
          "name": "stdout",
          "output_type": "stream",
          "text": [
            "Fruit    | Quantity\n",
            "Apples   |   3.1416 | asd\n",
            "Oranges  |       10\n"
          ]
        }
      ],
      "source": [
        "\n",
        "print('{F:8} | {Q:8}'.format(F = 'Fruit', Q = 'Quantity'))\n",
        "\n",
        "print('{0:8} | {1:8}'.format('Apples', 3.))\n",
        "\n",
        "print('{0:8} | {1:8}'.format('Oranges', 10))"
      ]
    },
    {
      "attachments": {},
      "cell_type": "markdown",
      "metadata": {},
      "source": [
        "## **3. Variable (Declaration & Deletion)**"
      ]
    },
    {
      "attachments": {},
      "cell_type": "markdown",
      "metadata": {},
      "source": [
        "\n",
        "\n",
        "#### 3.1 Variable Declaration\n",
        "4 rules of Variable Declaration in Python\n",
        "01. Start with Letter or Underscore\n",
        "02. Case Sensitive\n",
        "03. Alphanumeric\n",
        "04. Cannot start with a number\n",
        "\n",
        "Things good to know:\n",
        "* Same type of variable can be CONCATENATE (added)                              \n",
        "* Multiple variable can be assigned same/different value in one line: var1 = var2 = var3 = \"Same Value\" (See code line 3.1.1)\n",
        "* 3rd Bracket [List], 2nd bracket {Set}, 1st bracket (tuple)\n",
        "\n",
        "\n",
        "\n",
        "#### 3.2 Variable delation\n",
        "* Simply use ```del``` keyword\n",
        "* Variable deletion: del var1, var2, var3"
      ]
    },
    {
      "cell_type": "code",
      "execution_count": 26,
      "metadata": {
        "id": "RpHFwdwkqB3s"
      },
      "outputs": [
        {
          "name": "stdout",
          "output_type": "stream",
          "text": [
            "2\n",
            "5.4\n",
            "Coding\n",
            "(1, 2, 3, 4, 5)\n",
            "{1, 2, 3, 4, 5}\n",
            "[1, 2, 3, 4, 5]\n"
          ]
        }
      ],
      "source": [
        "a, b, c, d, e, f = 2, 5.4, \"Coding\", (1,2,3,4,5), {1,2,3,4,5}, [1,2,3,4,5]  # 3.1\n",
        "print(a,b,c,d,e,f, sep=\"\\n\")                                                "
      ]
    },
    {
      "attachments": {},
      "cell_type": "markdown",
      "metadata": {},
      "source": [
        "## **4. Operators**"
      ]
    },
    {
      "attachments": {},
      "cell_type": "markdown",
      "metadata": {},
      "source": [
        "\n",
        "\n",
        "There are total 8 types of operators\n",
        "\n",
        "```\n",
        "1. Arithmetic           (7) :   Operators : +,-,*,/,//,%,**\n",
        "\n",
        "2. Assignment           (13):   Notes     :  Equal, Arithmetic 7 ta Equal, Bitwise 5ta Equal  \n",
        "                                            (=, arithmatic oprator 7= Bitwise 5=)\n",
        "\n",
        "3. Comparis on/Relation (6) :   Operators : ==, !=, >, <, >=, <=\n",
        "                                Notes     : Return Boolean ans: TRUE, FLASE\n",
        "\n",
        "4. Logical              (3) :   Operators : and, or, not\n",
        "\n",
        "5. Identity             (2) :   Operators : is, is not\n",
        "                                Notes     : Checks if memory location is same or not || \n",
        "                                            Multiple variable's memory location is same in python until the value are different\n",
        "6. Membership           (2) :   Operators : in, not in\n",
        "7. Bitwise              (6) :   Notes     : Mathmetical operations Results  \n",
        "                                            (bitwise 1 - and, 2 - or, 3 - xor, 4 - not, 5 - R Shift, 6 - L shift)\n",
        "                                            &   (binary numbers's and result), \n",
        "                                            |   (binary numbers's or result), \n",
        "                                            ^   (XOR result || Couple=False)\n",
        "                                            >>  (Right Shifts bit certain blocks)\n",
        "                                            <<  (Left Shift)\n",
        "                                            ~   (Minus Sign [1's Complement {(Number's 1's complement) -1}])\n",
        "8. Ternary\n",
        "```"
      ]
    },
    {
      "attachments": {},
      "cell_type": "markdown",
      "metadata": {},
      "source": [
        "## **5. Data Types**"
      ]
    },
    {
      "attachments": {},
      "cell_type": "markdown",
      "metadata": {},
      "source": [
        "### 5.1 Different data types"
      ]
    },
    {
      "attachments": {},
      "cell_type": "markdown",
      "metadata": {},
      "source": [
        "```\n",
        "There are total 8\n",
        "1. str\n",
        "2. Numeric(3)  : int(1), float(2.27), complex(1j)\n",
        "3. Sequence(3) : [list], range(), (tuple)\n",
        "4. Mapping     : dict\n",
        "5. Set(2)      : set, frozenset\n",
        "6. Binary(3)   : bythes, bytearray, memoryview\n",
        "7. NoneType \n",
        "8. bool\n",
        "```"
      ]
    },
    {
      "attachments": {},
      "cell_type": "markdown",
      "metadata": {},
      "source": [
        "### 5.2 Data Types according to categories"
      ]
    },
    {
      "attachments": {},
      "cell_type": "markdown",
      "metadata": {},
      "source": [
        "\n",
        "```\n",
        "There are 3 categories.\n",
        "1. Basic Types (5)      : (int, float, complex, string, boolean)              \n",
        "2. Collection Types (4) : (list, tuple, sets and dictionary)                  \n",
        "3. User Defined         : (Class)       \n",
        "\n",
        " [] String, Tuple(90) --> Ordered, Unchangeable\n",
        " [] List, Dictionary  --> Ordered, Changeable, (duplicate, no dubplicates)\n",
        " [] Set               --> Unordered, Unchangeable, No duplicates\n",
        " ```"
      ]
    },
    {
      "attachments": {},
      "cell_type": "markdown",
      "metadata": {},
      "source": [
        "### 5.3 Basic data types - int(n),  float(n.n), complex(nj)"
      ]
    },
    {
      "cell_type": "code",
      "execution_count": 30,
      "metadata": {},
      "outputs": [
        {
          "name": "stdout",
          "output_type": "stream",
          "text": [
            "True\n"
          ]
        }
      ],
      "source": [
        "b = 2 < 3 < 10\n",
        "print(b)"
      ]
    },
    {
      "cell_type": "code",
      "execution_count": 27,
      "metadata": {
        "id": "upLQdWXxI_98"
      },
      "outputs": [
        {
          "name": "stdout",
          "output_type": "stream",
          "text": [
            "Entered:  20   ||  Type: <class 'int'>\n",
            "Entered:  20.5 ||  Type: <class 'float'>\n",
            "Entered:  2j   ||  Type: <class 'complex'>\n"
          ]
        }
      ],
      "source": [
        "# Integer\n",
        "var_int = 20                                                                    \n",
        "print(\"Entered: \", var_int, \"  ||  Type:\", type(var_int))                       \n",
        "\n",
        "# Float\n",
        "var_float = 20.5\n",
        "print(\"Entered: \", var_float, \"||  Type:\", type(var_float))\n",
        "\n",
        "# Complex\n",
        "var_complex = 2j\n",
        "print(\"Entered: \",var_complex, \"  ||  Type:\", type(var_complex))"
      ]
    },
    {
      "attachments": {},
      "cell_type": "markdown",
      "metadata": {},
      "source": [
        "## **6. Input Function**"
      ]
    },
    {
      "attachments": {},
      "cell_type": "markdown",
      "metadata": {},
      "source": [
        "Summary:\n",
        "```\n",
        "var1 = input()\n",
        "var1, var2 = input(\"Any Message \").split(\"by what || maybe just a space\")\n",
        "```"
      ]
    },
    {
      "attachments": {},
      "cell_type": "markdown",
      "metadata": {},
      "source": [
        "Things good to know\n",
        "* You can print anything without print() function inside a --> input(\"Message\")\n",
        "* Everything you input in a input() function is --> a String\n",
        "* Type casting input() function:\n",
        "``` var = int/float( input(\"Input will be integer: \") ) ```"
      ]
    },
    {
      "cell_type": "code",
      "execution_count": null,
      "metadata": {
        "colab": {
          "base_uri": "https://localhost:8080/",
          "height": 393
        },
        "id": "I-v0uiBYqGIH",
        "outputId": "40fac63b-32a2-45a7-f53f-2a5e47177559"
      },
      "outputs": [],
      "source": [
        "A = input(\"Input a number: \")\n",
        "print(\"You entered \", A)\n",
        "print(\"Type of A: \", type(A))\n",
        "A = int(A)\n",
        "print(\"After type Casting: A = \", A, \" Type: \", type(A))"
      ]
    },
    {
      "attachments": {},
      "cell_type": "markdown",
      "metadata": {},
      "source": [
        "Taking multiple input in one line >> Using ``` input().split(\" \") ```"
      ]
    },
    {
      "cell_type": "code",
      "execution_count": null,
      "metadata": {},
      "outputs": [],
      "source": [
        "a, b, c = input(\"\\n\\n\\nEnter 3 numbers: \").split(\"\\n\")\n",
        "print(\"Type of a,b,c: \", type(a))\n",
        "\n",
        "# Printing value of a b c after type cast\n",
        "a, b, c = int(a), int(b), int(c)\n",
        "print(\"a = {}, b = {}\".format(a,b), \"\\nType of them now: \", type(a), \"\\nc = {}\".format(c))\n"
      ]
    },
    {
      "cell_type": "code",
      "execution_count": null,
      "metadata": {
        "id": "MTBsC84yAN9l"
      },
      "outputs": [],
      "source": [
        "# Boolean and None\n",
        "#################################################################################################################################\n",
        "var_bool_1 = True\n",
        "var_bool_2 = False\n",
        "print(\"Entered: \", var_bool_1, \"||  Type:\", type(var_bool_1))\n",
        "print(\"Entered:  {}||  Type: {}\".format(var_bool_2, type(var_bool_2)))\n",
        "\n",
        "\n",
        "var_none = None\n",
        "print(\"Entered: \", var_none, \"||  Type:\", type(var_str))\n"
      ]
    }
  ],
  "metadata": {
    "colab": {
      "authorship_tag": "ABX9TyMfJovDXmmLwDTk2qNCA1Nc",
      "include_colab_link": true,
      "provenance": []
    },
    "kernelspec": {
      "display_name": "Python 3",
      "name": "python3"
    },
    "language_info": {
      "codemirror_mode": {
        "name": "ipython",
        "version": 3
      },
      "file_extension": ".py",
      "mimetype": "text/x-python",
      "name": "python",
      "nbconvert_exporter": "python",
      "pygments_lexer": "ipython3",
      "version": "3.11.2"
    }
  },
  "nbformat": 4,
  "nbformat_minor": 0
}
