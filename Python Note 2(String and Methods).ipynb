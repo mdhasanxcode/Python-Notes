{
  "cells": [
    {
      "attachments": {},
      "cell_type": "markdown",
      "metadata": {
        "colab_type": "text",
        "id": "view-in-github"
      },
      "source": [
        "<a href=\"https://colab.research.google.com/github/radium-code/Python-Notes/blob/main/2_Python_Note_(String_and_Methods).ipynb\" target=\"_parent\"><img src=\"https://colab.research.google.com/assets/colab-badge.svg\" alt=\"Open In Colab\"/></a>"
      ]
    },
    {
      "attachments": {},
      "cell_type": "markdown",
      "metadata": {},
      "source": [
        "# **Learning Objectives**"
      ]
    },
    {
      "attachments": {},
      "cell_type": "markdown",
      "metadata": {},
      "source": [
        "In this note we will learn about:\n",
        "```\n",
        "1. String Introduction\n",
        "2. String Indexing\n",
        "3. String Slicing\n",
        "4. A few useful string Methods\n",
        "```"
      ]
    },
    {
      "attachments": {},
      "cell_type": "markdown",
      "metadata": {},
      "source": [
        "## 1. String Introduction"
      ]
    },
    {
      "attachments": {},
      "cell_type": "markdown",
      "metadata": {},
      "source": [
        "Strings in Python are actually a *sequence* of letters/elements.\n",
        "Python understands the string *\"Hello Everyone!\"* to be a sequence of letters in a specific order."
      ]
    },
    {
      "cell_type": "code",
      "execution_count": 2,
      "metadata": {},
      "outputs": [
        {
          "name": "stdout",
          "output_type": "stream",
          "text": [
            "Entered:  Hello Everyone \n",
            "Type: <class 'str'>\n",
            "\n"
          ]
        }
      ],
      "source": [
        "var_str = \"Hello Everyone\"\n",
        "print(\"Entered: \", var_str, \"\\nType:\", type(var_str), end = \"\\n\\n\")"
      ]
    },
    {
      "attachments": {},
      "cell_type": "markdown",
      "metadata": {},
      "source": [
        "To create a string in Python you need to use either single quotes or double quotes. For example:"
      ]
    },
    {
      "cell_type": "code",
      "execution_count": 10,
      "metadata": {},
      "outputs": [
        {
          "name": "stdout",
          "output_type": "stream",
          "text": [
            "I am a Human\n",
            "I'm a Human\n",
            "I'm a Human\n"
          ]
        }
      ],
      "source": [
        "var1 = 'I am a Human'\n",
        "print(var1)\n",
        "\n",
        "# Error!!\n",
        "# var = 'I'm a human'\n",
        "\n",
        "var2 = \"I'm a Human\"\n",
        "print(var2)\n",
        "\n",
        "var3 = 'I\\'m a Human'\n",
        "print(var3)"
      ]
    },
    {
      "attachments": {},
      "cell_type": "markdown",
      "metadata": {},
      "source": [
        "## 2. String Indexing"
      ]
    },
    {
      "attachments": {},
      "cell_type": "markdown",
      "metadata": {},
      "source": [
        "\n",
        "* You can access a character in a string by using the syntax ```var_string[i]```, where i is the index number.\n",
        "* Strings are immutable (unchangeable once it is assigned)\n",
        "* Python string index numbers start from``` 0```.\n",
        "* Reverse string index numbers start from``` -1```.\n"
      ]
    },
    {
      "cell_type": "code",
      "execution_count": 31,
      "metadata": {},
      "outputs": [
        {
          "name": "stdout",
          "output_type": "stream",
          "text": [
            "First element  : A\n",
            "Second element : B\n",
            "Last element   : E\n",
            "First element by reverse index  : E\n",
            "Second element by reverse index : D\n",
            "Last element by reverse index   : A\n"
          ]
        }
      ],
      "source": [
        "str = \"ABCDE\"\n",
        "print(f\"First element  : {str[0]}\")\n",
        "print(f\"Second element : {str[1]}\")\n",
        "print(f\"Last element   : {str[4]}\")\n",
        "\n",
        "print(f\"First element by reverse index  : {str[-1]}\")\n",
        "print(f\"Second element by reverse index : {str[-2]}\")\n",
        "print(f\"Last element by reverse index   : {str[-5]}\")"
      ]
    },
    {
      "attachments": {},
      "cell_type": "markdown",
      "metadata": {},
      "source": [
        "* You can access a set of characters or a part of a string by using the syntax ```var_string[1:len(var_str)]```, where it starts with the index specified and ends without including the last index specified.\n",
        "For example, var_string[0:5] will print elements from index 0 to 4.\n",
        "\n",
        "* In Python range index patter is as follow: ``` string[start:end] ```\n",
        "\n",
        "* It prints from the index specified as the start, but it ```excludes the last``` index specified."
      ]
    },
    {
      "attachments": {},
      "cell_type": "markdown",
      "metadata": {},
      "source": [
        "You can also iterate through the strings, accessing charechters from the string"
      ]
    },
    {
      "cell_type": "code",
      "execution_count": 7,
      "metadata": {},
      "outputs": [
        {
          "name": "stdout",
          "output_type": "stream",
          "text": [
            "a\n",
            "b\n",
            "c\n"
          ]
        }
      ],
      "source": [
        "english = \"abc\"\n",
        "for i in english:\n",
        "  print(i)"
      ]
    },
    {
      "cell_type": "code",
      "execution_count": null,
      "metadata": {
        "id": "KLppeSq0APMe"
      },
      "outputs": [],
      "source": [
        "\n",
        "# Accessing through index: var_str[i]\n",
        "#################################################################################\n",
        "print(\"Character in String:\")                                                   #\n",
        "for i in range(len(var_str)):                                                   #\n",
        "  print(\"var_str {} = {}\".format(i, var_str[i]))                                #\n",
        "print(\"\\n\")                                                                     #\n",
        "#################################################################################\n",
        "\n",
        "\n",
        "# Accessing through Range index: var_str[start:end]\n",
        "###################################################################################################################################\n",
        "print(\"Length of the string: len(var_str) = {}\".format(len(var_str)))                                                             #\n",
        "print(\"Part(middle to next 2 chars) of a string:{}\".format(var_str[int(len(var_str)/2): int(len(var_str)/2)+3]), end=\"\\n\\n\")      #\n",
        "## Look, here ------>   var_str[starts: end+3] -------> +3 bcz, it will print without the last element                            #\n",
        "###################################################################################################################################"
      ]
    },
    {
      "cell_type": "code",
      "execution_count": null,
      "metadata": {
        "id": "ykThR8Ih5LPx"
      },
      "outputs": [],
      "source": [
        "# String Methods: .upper(), .lower(), .strip(), .replace(), split()\n",
        "#################################################################################################################################\n",
        "\n",
        "\n",
        "\n",
        "# .upper(), .lower()\n",
        "################################################################################################################\n",
        "var_str = \"There is a fox running in a jungle.\"                                                                #\n",
        "print(\"var_str before:\", var_str)                                                                              #\n",
        "                                                                                                               #\n",
        "var_str = var_str.upper()                                                                                      #\n",
        "print(\"var_str.upper() =\", var_str)                                                                            #\n",
        "                                                                                                               #\n",
        "var_str = var_str.lower()                                                                                      #\n",
        "print(\"var_str.lower() =\", var_str)                                                                            #\n",
        "print(\"\\n\\n\")                                                                                                  #\n",
        "################################################################################################################"
      ]
    },
    {
      "cell_type": "code",
      "execution_count": null,
      "metadata": {
        "id": "AVC9JFLY3t2a"
      },
      "outputs": [],
      "source": [
        "# .strip()\n",
        "################################################################################################################\n",
        "s = ''' \\n \\tThere is a jungle_in_\\t_the forest with www.string.com\\n\\t a   b'''                               #\n",
        "print(\"Default String:\" + s)                                                                                   #\n",
        "                                                                                                               #\n",
        "# default .strip() ----------> is actually .strip( \\n) for left only                                           #\n",
        "s = s.strip()                                                                                                  #\n",
        "print(\"After .strip():\"+ s)                                                                                    #\n",
        "print(\"\\n\\n\")                                                                                                  #\n",
        "################################################################################################################"
      ]
    },
    {
      "cell_type": "code",
      "execution_count": null,
      "metadata": {
        "id": "aLHvCnfC8jGO"
      },
      "outputs": [],
      "source": [
        "# .replace()\n",
        "##########################################################################################################\n",
        "s = \"Dere iz a Gox Running in a jungle.\"                                                                 #\n",
        "print(\"Default String: \" + s)                                                                            #\n",
        "                                                                                                         #\n",
        "# single replace                                                                                         #\n",
        "s = s.replace(\"D\",'Th')                                                                                  #\n",
        "print(\"Single replace: {}\".format(s))                                                                    #\n",
        "                                                                                                         #\n",
        "# Multiple Replace                                                                                       #\n",
        "s = \"Dere iz a Gox Running in a jungle.\"                                                                 #\n",
        "s = s.replace(\"D\", \"Th\").replace(\"z\", \"s\").replace(\"G\", \"f\").replace(\"R\",\"r\")                            #\n",
        "print(\"Multpl replace: {}\".format(s))                                                                    #\n",
        "print(\"\\n\\n\")                                                                                            #\n",
        "##########################################################################################################"
      ]
    },
    {
      "cell_type": "code",
      "execution_count": null,
      "metadata": {
        "id": "nEYblQWc8l3m"
      },
      "outputs": [],
      "source": [
        "# .split()\n",
        "##########################################################################################################\n",
        "name = \"Rakib Hasan/Nayon Zarif\"\n",
        "print(\"Default String: \" + name)\n",
        "name = name.split(\"/\",)\n",
        "print(type(name), name)"
      ]
    },
    {
      "cell_type": "code",
      "execution_count": null,
      "metadata": {},
      "outputs": [],
      "source": []
    }
  ],
  "metadata": {
    "colab": {
      "authorship_tag": "ABX9TyN5pCRj4LtXDYUfYBRHWXU7",
      "include_colab_link": true,
      "provenance": []
    },
    "kernelspec": {
      "display_name": "Python 3",
      "name": "python3"
    },
    "language_info": {
      "codemirror_mode": {
        "name": "ipython",
        "version": 3
      },
      "file_extension": ".py",
      "mimetype": "text/x-python",
      "name": "python",
      "nbconvert_exporter": "python",
      "pygments_lexer": "ipython3",
      "version": "3.11.2"
    }
  },
  "nbformat": 4,
  "nbformat_minor": 0
}
