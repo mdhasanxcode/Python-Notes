{
  "nbformat": 4,
  "nbformat_minor": 0,
  "metadata": {
    "colab": {
      "provenance": [],
      "authorship_tag": "ABX9TyN5pCRj4LtXDYUfYBRHWXU7",
      "include_colab_link": true
    },
    "kernelspec": {
      "name": "python3",
      "display_name": "Python 3"
    },
    "language_info": {
      "name": "python"
    }
  },
  "cells": [
    {
      "cell_type": "markdown",
      "metadata": {
        "id": "view-in-github",
        "colab_type": "text"
      },
      "source": [
        "<a href=\"https://colab.research.google.com/github/radium-code/Python-Notes/blob/main/2_Python_Note_(String_and_Methods).ipynb\" target=\"_parent\"><img src=\"https://colab.research.google.com/assets/colab-badge.svg\" alt=\"Open In Colab\"/></a>"
      ]
    },
    {
      "cell_type": "code",
      "source": [
        "# String, immutable/ unchangable\n",
        "# Accessing element/s\n",
        "# Index and Range Index\n",
        "###############################################################################################################################################################\n",
        "# String in python are immutable                                                                                                                              #\n",
        "# Means if you can assign (a already assigned string variable) newly(again)                                                                                   #\n",
        "# But you can't change any element of a string                                                                                                                #\n",
        "###############################################################################################################################################################\n",
        "\n",
        "\n",
        "\n",
        "# Index and String Access:                                                                                                                                    \n",
        "###############################################################################################################################################################\n",
        "# Python String index number starts from 0                                                                                                                    #\n",
        "# Reverse String index number starts from -1                                                                                                                  #\n",
        "# In python Range Index [start:end] print --> Starts with index specified, but end without last index specified                                               #\n",
        "                                                                                                                                                              #\n",
        "# You can access character in String by: var_string[i]     -----------------------------> Index number noraml                                                 #\n",
        "# You can access a_set_of_char / a_part_of_string by: var_string[1:len(var_str)] -------> Starts with index specified, but end without last index specified   #\n",
        "#                                                                                   #---> Means: str[0:5]  will print  element 0 to 4                         #\n",
        "###############################################################################################################################################################\n",
        "\n",
        "# String and type\n",
        "################################################################################\n",
        "var_str = \"Once_Upon_A_time\"\n",
        "print(\"Entered: \", var_str, \"\\nType:\", type(var_str), end = \"\\n\\n\")\n",
        "\n",
        "\n",
        "\n",
        "#for i in var_str:\n",
        "#  print(i)\n",
        "## Alternative way (For writing that Im accessing char from string):\n",
        "\n",
        "\n",
        "# Accessing through index: var_str[i]\n",
        "#################################################################################\n",
        "print(\"Character in String:\")                                                   #\n",
        "for i in range(len(var_str)):                                                   #\n",
        "  print(\"var_str {} = {}\".format(i, var_str[i]))                                #\n",
        "print(\"\\n\")                                                                     #\n",
        "#################################################################################\n",
        "\n",
        "\n",
        "# Accessing through Range index: var_str[start:end]\n",
        "###################################################################################################################################\n",
        "print(\"Length of the string: len(var_str) = {}\".format(len(var_str)))                                                             #\n",
        "print(\"Part(middle to next 2 chars) of a string:{}\".format(var_str[int(len(var_str)/2): int(len(var_str)/2)+3]), end=\"\\n\\n\")      #\n",
        "## Look, here ------>   var_str[starts: end+3] -------> +3 bcz, it will print without the last element                            #\n",
        "###################################################################################################################################"
      ],
      "metadata": {
        "id": "KLppeSq0APMe"
      },
      "execution_count": null,
      "outputs": []
    },
    {
      "cell_type": "code",
      "source": [
        "# String Methods: .upper(), .lower(), .strip(), .replace(), split()\n",
        "#################################################################################################################################\n",
        "\n",
        "\n",
        "\n",
        "# .upper(), .lower()\n",
        "################################################################################################################\n",
        "var_str = \"There is a fox running in a jungle.\"                                                                #\n",
        "print(\"var_str before:\", var_str)                                                                              #\n",
        "                                                                                                               #\n",
        "var_str = var_str.upper()                                                                                      #\n",
        "print(\"var_str.upper() =\", var_str)                                                                            #\n",
        "                                                                                                               #\n",
        "var_str = var_str.lower()                                                                                      #\n",
        "print(\"var_str.lower() =\", var_str)                                                                            #\n",
        "print(\"\\n\\n\")                                                                                                  #\n",
        "################################################################################################################"
      ],
      "metadata": {
        "id": "ykThR8Ih5LPx"
      },
      "execution_count": null,
      "outputs": []
    },
    {
      "cell_type": "code",
      "source": [
        "# .strip()\n",
        "################################################################################################################\n",
        "s = ''' \\n \\tThere is a jungle_in_\\t_the forest with www.string.com\\n\\t a   b'''                               #\n",
        "print(\"Default String:\" + s)                                                                                   #\n",
        "                                                                                                               #\n",
        "# default .strip() ----------> is actually .strip( \\n) for left only                                           #\n",
        "s = s.strip()                                                                                                  #\n",
        "print(\"After .strip():\"+ s)                                                                                    #\n",
        "print(\"\\n\\n\")                                                                                                  #\n",
        "################################################################################################################"
      ],
      "metadata": {
        "id": "AVC9JFLY3t2a"
      },
      "execution_count": null,
      "outputs": []
    },
    {
      "cell_type": "code",
      "source": [
        "# .replace()\n",
        "##########################################################################################################\n",
        "s = \"Dere iz a Gox Running in a jungle.\"                                                                 #\n",
        "print(\"Default String: \" + s)                                                                            #\n",
        "                                                                                                         #\n",
        "# single replace                                                                                         #\n",
        "s = s.replace(\"D\",'Th')                                                                                  #\n",
        "print(\"Single replace: {}\".format(s))                                                                    #\n",
        "                                                                                                         #\n",
        "# Multiple Replace                                                                                       #\n",
        "s = \"Dere iz a Gox Running in a jungle.\"                                                                 #\n",
        "s = s.replace(\"D\", \"Th\").replace(\"z\", \"s\").replace(\"G\", \"f\").replace(\"R\",\"r\")                            #\n",
        "print(\"Multpl replace: {}\".format(s))                                                                    #\n",
        "print(\"\\n\\n\")                                                                                            #\n",
        "##########################################################################################################"
      ],
      "metadata": {
        "id": "aLHvCnfC8jGO"
      },
      "execution_count": null,
      "outputs": []
    },
    {
      "cell_type": "code",
      "source": [
        "# .split()\n",
        "##########################################################################################################\n",
        "name = \"Rakib Hasan/Nayon Zarif\"\n",
        "print(\"Default String: \" + name)\n",
        "name = name.split(\"/\",)\n",
        "print(type(name), name)"
      ],
      "metadata": {
        "id": "nEYblQWc8l3m"
      },
      "execution_count": null,
      "outputs": []
    }
  ]
}