{
  "nbformat": 4,
  "nbformat_minor": 0,
  "metadata": {
    "colab": {
      "provenance": [],
      "authorship_tag": "ABX9TyNphGfeOI1S2nXNqlZYYEMs",
      "include_colab_link": true
    },
    "kernelspec": {
      "name": "python3",
      "display_name": "Python 3"
    },
    "language_info": {
      "name": "python"
    }
  },
  "cells": [
    {
      "cell_type": "markdown",
      "metadata": {
        "id": "view-in-github",
        "colab_type": "text"
      },
      "source": [
        "<a href=\"https://colab.research.google.com/github/radium-code/Python-Notes/blob/main/3_Containers.ipynb\" target=\"_parent\"><img src=\"https://colab.research.google.com/assets/colab-badge.svg\" alt=\"Open In Colab\"/></a>"
      ]
    },
    {
      "cell_type": "code",
      "execution_count": null,
      "metadata": {
        "id": "YLLOV0nbW6xL"
      },
      "outputs": [],
      "source": [
        "# String, Tuple(90)      --> Ordered, Unchangeable\n",
        "# List[], Dictionary{}   --> Ordered, Changeable, (duplicate, no dubplicates)\n",
        "# Set                    --> Unordered, Unchangeable, No duplicates"
      ]
    },
    {
      "cell_type": "code",
      "source": [
        "# Assigning and clearing a list\n",
        "###################################################################################################\n",
        "# Assign\n",
        "#############\n",
        "var_list = [1, 2.50, \"Apple\", \"cherry\", True]\n",
        "print(\"Entered: \", var_list, \"||  Type:\", type(var_list))\n",
        "\n",
        "\n",
        "var_tuple = (1, 2.50, \"Apple\", \"cherry\", True)\n",
        "print(\"Entered: \",var_tuple, \"||  Type:\", type(var_tuple))\n",
        "\n",
        "\n",
        "# Clear a list\n",
        "###################"
      ],
      "metadata": {
        "id": "RIcMCWe19Q9c"
      },
      "execution_count": null,
      "outputs": []
    },
    {
      "cell_type": "code",
      "source": [
        "# Replacing & Inserting elements in LIST\n",
        "###################################################################################################\n",
        "\n",
        "\n",
        "# var_list[index range] = [\"element\", elements]\n",
        "#################################################################################################\n",
        "# Warning!                                                                                      #\n",
        "################# Use list[index range] = [\"element\"] -- if you use index ranging ###############\n",
        "# Replacing as a list element (not as a just string)                                            #\n",
        "# If you put just a string, not as a list element --> then it takes every char as list element  #\n",
        "#################################################################################################\n",
        "\n",
        "\n",
        "# The list\n",
        "var_list = [\"Apple\", \"Banana\", \"Drinks\", \"Meat\", \"Rice\", \"Desert\"]\n",
        "# printing the list\n",
        "print(\"var_list =\", var_list, end = \"\\n\\n\")\n",
        "\n",
        "# Replacing a single element (at a 3rd index)\n",
        "var_list[2:3] = [\"Fruits\"]\n",
        "print(\"After Replacing 3rd index [2:3]\\nvar_list =\", var_list, end=\"\\n\\n\\n\\n\")\n",
        "\n",
        "\n",
        "\n",
        "\n",
        "\n",
        "# The list\n",
        "var_list = [\"Apple\", \"Banana\", \"Drinks\", \"Meat\", \"Rice\", \"Desert\"]\n",
        "# printing the list\n",
        "print(\"var_list =\", var_list)\n",
        "#printing a range\n",
        "print(\"var_list[:3] =\", var_list[:3], end = \"\\n\\n\")\n",
        "\n",
        "\n",
        "#replacing (0-2)range elements\n",
        "var_list[:3] = [\"Fruits\"]\n",
        "print(\"After Replacing \\\"First 3 indexs/ A range of index\\\" [0:3]\\nvar_list =\", var_list, end=\"\\n\\n\\n\\n\")\n",
        "\n",
        "\n",
        "\n",
        "var_list = [\"Apple\", \"Banana\", \"Drinks\", \"Meat\", \"Rice\", \"Desert\"]\n",
        "var_list[:3] = 'Fruits'\n",
        "print(\"After Replacing as String // Means, Not giving [] before elements\\nvar_list =\", var_list)"
      ],
      "metadata": {
        "colab": {
          "base_uri": "https://localhost:8080/"
        },
        "id": "HWT6Vkjn9rtB",
        "outputId": "0f474cc8-a600-4f22-d8c0-d619077e08a2"
      },
      "execution_count": null,
      "outputs": [
        {
          "output_type": "stream",
          "name": "stdout",
          "text": [
            "var_list = ['Apple', 'Banana', 'Drinks', 'Meat', 'Rice', 'Desert']\n",
            "\n",
            "After Replacing 3rd index [2:3]\n",
            "var_list = ['Apple', 'Banana', 'Fruits', 'Meat', 'Rice', 'Desert']\n",
            "\n",
            "\n",
            "\n",
            "var_list = ['Apple', 'Banana', 'Drinks', 'Meat', 'Rice', 'Desert']\n",
            "var_list[:3] = ['Apple', 'Banana', 'Drinks']\n",
            "\n",
            "After Replacing \"First 3 indexs/ A range of index\" [0:3]\n",
            "var_list = ['Fruits', 'Meat', 'Rice', 'Desert']\n",
            "\n",
            "\n",
            "\n",
            "After Replacing as String // Means, Not giving [] before elements\n",
            "var_list = ['F', 'r', 'u', 'i', 't', 's', 'Meat', 'Rice', 'Desert']\n"
          ]
        }
      ]
    },
    {
      "cell_type": "code",
      "source": [
        "# List.insert(index, element)\n",
        "# List.append(element)       ------------->>>  adds element at the end\n",
        "######################################################################################\n",
        "var_list = [\"Apple\", \"Banana\", \"Drinks\", \"Meat\", \"Rice\", \"Desert\"]\n",
        "print(\"var_list =\", var_list, end = \"\\n\\n\")\n",
        "var_list.insert(2, \"CokaCola\")\n",
        "print(\"Inserting using .insert(index, element):\\nvar_list =\", var_list, end = \"\\n\\n\\n\\n\")\n",
        "\n",
        "print(\"var_list =\", var_list)\n",
        "var_list.append(\"Faluda\")\n",
        "print(\"Inserting using .append(element):\\nvar_list =\", var_list)"
      ],
      "metadata": {
        "id": "f9-6Zl8t9rl8",
        "colab": {
          "base_uri": "https://localhost:8080/"
        },
        "outputId": "d777cfd8-d5b9-4d00-ecd6-c02a8a817d08"
      },
      "execution_count": null,
      "outputs": [
        {
          "output_type": "stream",
          "name": "stdout",
          "text": [
            "var_list = ['Apple', 'Banana', 'Drinks', 'Meat', 'Rice', 'Desert']\n",
            "\n",
            "Inserting using .insert(index, element):\n",
            "var_list = ['Apple', 'Banana', 'CokaCola', 'Drinks', 'Meat', 'Rice', 'Desert']\n",
            "\n",
            "\n",
            "\n",
            "var_list = ['Apple', 'Banana', 'CokaCola', 'Drinks', 'Meat', 'Rice', 'Desert']\n",
            "Inserting using .append(element):\n",
            "var_list = ['Apple', 'Banana', 'CokaCola', 'Drinks', 'Meat', 'Rice', 'Desert', 'Faluda']\n"
          ]
        }
      ]
    },
    {
      "cell_type": "code",
      "source": [
        "# LIST.extend(List/Tuple/Set/dictionary)\n",
        "# It only works with List\n",
        "###############################################################################################################\n",
        "\n",
        "fruits = [\"Apple\", \"Banana\", \"Mango\", \"Grape\"]\n",
        "desert = [\"Faluda\", \"Brownie\", \"Pie\"]\n",
        "Number = (1, 2, 3, 4)\n",
        "\n",
        "print(\"Fruits = {}\\nDesert = {}\\nNumber = {}\\n\\n\\n\".format(fruits, desert, Number))\n",
        "\n",
        "\n",
        "\n",
        "fruits.extend(desert)\n",
        "print(\"fruits.extend(desert)\")\n",
        "print(\"Fruits = \",fruits)\n",
        "\n",
        "\n",
        "fruits.extend(Number)\n",
        "print(\"fruits.extend(Number)\")\n",
        "print(\"Fruits = \",fruits)\n"
      ],
      "metadata": {
        "id": "qza5wv5Y9rlB",
        "colab": {
          "base_uri": "https://localhost:8080/"
        },
        "outputId": "8b8e4c5e-66c0-4bb6-a5a5-b50e67534513"
      },
      "execution_count": null,
      "outputs": [
        {
          "output_type": "stream",
          "name": "stdout",
          "text": [
            "Fruits = ['Apple', 'Banana', 'Mango', 'Grape']\n",
            "Desert = ['Faluda', 'Brownie', 'Pie']\n",
            "Number = (1, 2, 3, 4)\n",
            "\n",
            "\n",
            "\n",
            "fruits.extend(desert)\n",
            "Fruits =  ['Apple', 'Banana', 'Mango', 'Grape', 'Faluda', 'Brownie', 'Pie']\n",
            "fruits.extend(Number)\n",
            "Fruits =  ['Apple', 'Banana', 'Mango', 'Grape', 'Faluda', 'Brownie', 'Pie', 1, 2, 3, 4]\n",
            "fruits.extend(desert)\n",
            "Fruits =  ['Apple', 'Banana', 'Mango', 'Grape', 'Faluda', 'Brownie', 'Pie', 1, 2, 3, 4]\n"
          ]
        }
      ]
    },
    {
      "cell_type": "code",
      "source": [
        "# Deleting element from list\n",
        "###############################################################################################################\n",
        "\n",
        "# way 1:   index range = null string (not as list element)\n",
        "#           list[\"index range\"] = ''\n",
        "#\n",
        "#\n",
        "# way 2:   list.pop(index)\n",
        "# way 3:   list.remove(\"Element\")\n",
        "\n",
        "\n",
        "# WAY 1 (index ranging - null string)\n",
        "######################################\n",
        "#Inirialize List\n",
        "fruits = [\"Apple\", \"Banana\", \"Mango\", \"Grape\", \"Banana\", \"Grape\"]\n",
        "print(\"Fruits =\", fruits, end=\"\\n\\n\")\n",
        "\n",
        "# Delete 3rd Index :::\n",
        "print(\"Delete 3rd Index\")\n",
        "fruits[2:3] = ''\n",
        "print(\"fruits[2:3] = ''\\nFruits = \", fruits, end=\"\\n\\n\\n\\n\\n\")\n",
        "\n",
        "\n",
        "\n",
        "#Inirialize List\n",
        "fruits = [\"Apple\", \"Banana\", \"Mango\", \"Grape\", \"Banana\", \"Grape\"]\n",
        "print(\"Fruits =\", fruits, end=\"\\n\\n\")\n",
        "\n",
        "# Delete 3rd and 4th Index :::\n",
        "print(\"Delete 3rd and 4th Index\")\n",
        "fruits[2:4] = ''\n",
        "print(\"fruits[2:4] = ''\\nFruits =\", fruits, end=\"\\n\\n\\n\\n\\n\")\n",
        "\n",
        "\n",
        "\n",
        "#############################################################################################\n",
        "# WAY 2                                                                                     #\n",
        "# List.pop()                                                                                #\n",
        "# list will be without the popped one                                                       #\n",
        "####################################################################                        #\n",
        "fruits = [\"Apple\", \"Banana\", \"Mango\", \"Grape\", \"Banana\", \"Grape\"]  #                        #\n",
        "print(\"Fruits =\", fruits, end=\"\\n\\n\")                              #                        #\n",
        "                                                                   #                        #\n",
        "fruits.pop(2)                                                      #                        #\n",
        "print(fruits, end=\"\\n\\n\\n\\n\")                                      #                        #\n",
        "####################################################################                        #\n",
        "                                                                                            #\n",
        "                                                                                            #\n",
        "                                                                                            #\n",
        "###########################################################                                 #\n",
        "# Interesting fact about pop                                                                #\n",
        "# List = list.pop()                                                                         #\n",
        "# List is now with the only popped one                                                      #\n",
        "###########################################################                                 #\n",
        "# You can just keep the single element in the list        #                                 #\n",
        "# and delete all others                                   #                                 #\n",
        "num = ['A','B', 'C', 'd', 'e', 'F']                       #                                 #\n",
        "num = num.pop(2)                                          #                                 #\n",
        "print(num)                                                #                                  #\n",
        "###########################################################                                 #\n",
        "#############################################################################################"
      ],
      "metadata": {
        "id": "LbjxltNm9rbp",
        "colab": {
          "base_uri": "https://localhost:8080/"
        },
        "outputId": "d5f97d7f-20cd-484e-edc8-8c392291ea93"
      },
      "execution_count": null,
      "outputs": [
        {
          "output_type": "stream",
          "name": "stdout",
          "text": [
            "Fruits = ['Apple', 'Banana', 'Mango', 'Grape', 'Banana', 'Grape']\n",
            "\n",
            "Delete 3rd Index\n",
            "fruits[2:3] = ''\n",
            "Fruits =  ['Apple', 'Banana', 'Grape', 'Banana', 'Grape']\n",
            "\n",
            "\n",
            "\n",
            "\n",
            "Fruits = ['Apple', 'Banana', 'Mango', 'Grape', 'Banana', 'Grape']\n",
            "\n",
            "Delete 3rd and 4th Index\n",
            "fruits[2:4] = ''\n",
            "Fruits = ['Apple', 'Banana', 'Banana', 'Grape']\n",
            "\n",
            "\n",
            "\n",
            "\n",
            "Fruits = ['Apple', 'Banana', 'Mango', 'Grape', 'Banana', 'Grape']\n",
            "\n",
            "['Apple', 'Banana', 'Grape', 'Banana', 'Grape']\n",
            "\n",
            "\n",
            "\n",
            "C\n"
          ]
        }
      ]
    }
  ]
}